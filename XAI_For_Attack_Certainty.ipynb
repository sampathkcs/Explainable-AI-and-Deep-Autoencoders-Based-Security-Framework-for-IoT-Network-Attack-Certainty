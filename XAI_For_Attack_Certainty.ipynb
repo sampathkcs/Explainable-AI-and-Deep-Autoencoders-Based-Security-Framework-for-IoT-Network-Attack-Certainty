{
 "cells": [
  {
   "cell_type": "code",
   "execution_count": 88,
   "id": "d41cee5c",
   "metadata": {},
   "outputs": [],
   "source": [
    "import numpy as np\n",
    "import pandas as pd\n",
    "import tensorflow as tf\n",
    "from tensorflow.keras.models import Model\n",
    "from tensorflow.keras.layers import Input, Dense\n",
    "from tensorflow.keras import regularizers\n",
    "from tensorflow.keras.callbacks import EarlyStopping\n",
    "import matplotlib.pyplot as plt\n",
    "import shap\n",
    "import warnings\n",
    "import logging\n",
    "\n",
    "warnings.filterwarnings(\"ignore\")\n",
    "logger = logging.getLogger('shap')\n",
    "logger.disabled = True\n",
    "\n",
    "class AnomalyExplanationUsingSHAP:\n",
    "    '''\n",
    "    This class implements the method described in 'Explaining Anomalies Detected by Autoencoders Using SHAP' to explain\n",
    "    anomalies revealed by an unsupervised Autoencoder model using SHAP.\n",
    "    '''\n",
    "    \n",
    "    model_autoencoder = None\n",
    "    num_anomalies_to_explain = None\n",
    "    reconstruction_error_percentage = None\n",
    "    shap_values_selection_method = None\n",
    "    counter = None\n",
    "\n",
    "    def __init__(self, num_anomalies=100, reconstruction_error_percent=0.5, shap_selection='mean'):\n",
    "        self.num_anomalies_to_explain = num_anomalies\n",
    "        self.reconstruction_error_percentage = reconstruction_error_percent\n",
    "        self.shap_values_selection_method = shap_selection\n",
    "\n",
    "    def train_autoencoder(self, train_data, epochs=5, batch_size=64):\n",
    "        input_dim = train_data.shape[1]\n",
    "        print('Training data features:', input_dim)\n",
    "\n",
    "        input_layer = Input(shape=(input_dim,))\n",
    "        encoder = Dense(10, activation=\"relu\", activity_regularizer=regularizers.l1(10e-7))(input_layer)\n",
    "        encoder = Dense(32, activation=\"relu\", kernel_regularizer=regularizers.l2(10e-7))(encoder)\n",
    "        decoder = Dense(10, activation='relu', kernel_regularizer=regularizers.l2(10e-7))(encoder)\n",
    "        decoder = Dense(32, activation='relu', kernel_regularizer=regularizers.l2(10e-7))(decoder)\n",
    "        decoder = Dense(input_dim, activation=None, kernel_regularizer=regularizers.l2(10e-7))(decoder)\n",
    "\n",
    "        self.model_autoencoder = Model(inputs=input_layer, outputs=decoder)\n",
    "        self.model_autoencoder.summary()\n",
    "\n",
    "        self.model_autoencoder.compile(optimizer='adam', loss='mean_squared_error', metrics=['mse'])\n",
    "\n",
    "        early_stopper = EarlyStopping(monitor='val_loss', patience=5, verbose=1)\n",
    "        self.model_autoencoder.fit(train_data, train_data, epochs=epochs, batch_size=batch_size, shuffle=True,\n",
    "                                   validation_split=0.1, verbose=2, callbacks=[early_stopper])\n",
    "        self.model_autoencoder.save(\"autoencoder.h5\")\n",
    "\n",
    "        return self.model_autoencoder\n",
    "                \n",
    "    def get_top_anomalies_to_explain(self, explain_data):\n",
    "        predictions = self.model_autoencoder.predict(explain_data)\n",
    "        squared_errors = np.power(explain_data - predictions, 2)\n",
    "        mse_series = pd.Series(np.mean(squared_errors, axis=1))\n",
    "\n",
    "        most_anomalous_transactions = mse_series.sort_values(ascending=False)\n",
    "        columns = [\"id\", \"mse_all_columns\"]\n",
    "        columns.extend([\"squared_error_\" + col for col in list(explain_data.columns)])\n",
    "        items = []\n",
    "        for x in most_anomalous_transactions.iteritems():\n",
    "            item = [x[0], x[1]]\n",
    "            item.extend(squared_errors.loc[x[0]])\n",
    "            items.append(item)\n",
    "\n",
    "        anomalies_df = pd.DataFrame(items, columns=columns)\n",
    "        anomalies_df.set_index('id', inplace=True)\n",
    "\n",
    "        top_anomalies_to_explain = anomalies_df.head(self.num_anomalies_to_explain).index\n",
    "        return top_anomalies_to_explain\n",
    "\n",
    "    def get_num_features_with_high_reconstruction_error(self, total_squared_error, errors_df):\n",
    "        error_sum = 0\n",
    "        num_features = 0\n",
    "        for index in errors_df.index:\n",
    "            error_sum += errors_df.loc[index, 'err']\n",
    "            if error_sum >= self.reconstruction_error_percentage * total_squared_error:\n",
    "                break\n",
    "            num_features += 1\n",
    "        return num_features\n",
    "\n",
    "    def get_background_set(self, train_data, background_size=200):\n",
    "        background_set = train_data.head(background_size)\n",
    "        return background_set\n",
    "\n",
    "    def get_error_df_per_record(self, record):\n",
    "        prediction = self.model_autoencoder.predict(np.array([[record]])[0])[0]\n",
    "        squared_errors = np.power(record - prediction, 2)\n",
    "        errors_df = pd.DataFrame({'col_name': squared_errors.index, 'err': squared_errors}).reset_index(drop=True)\n",
    "        total_mse = np.mean(squared_errors)\n",
    "        errors_df.sort_values(by='err', ascending=False, inplace=True)\n",
    "        return errors_df, total_mse\n",
    "\n",
    "    def get_high_shap_values(self, shap_values_df):\n",
    "        high_contributing_features_df = pd.DataFrame()\n",
    "\n",
    "        for i in range(shap_values_df.shape[0]):\n",
    "            shap_values = shap_values_df.iloc[i]\n",
    "            if self.shap_values_selection_method == 'mean':\n",
    "                threshold_value = np.mean(shap_values)\n",
    "            elif self.shap_values_selection_method == 'median':\n",
    "                threshold_value = np.median(shap_values)\n",
    "            elif self.shap_values_selection_method == 'constant':\n",
    "                num_explaining_features = 5\n",
    "                explaining_features = shap_values_df[i:i + 1].stack().nlargest(num_explaining_features)\n",
    "                high_contributing_features_df = pd.concat([high_contributing_features_df, explaining_features], axis=0)\n",
    "                continue\n",
    "            else:\n",
    "                raise ValueError('Unknown SHAP value selection method')\n",
    "\n",
    "            num_contributing_features = 0\n",
    "            for j in range(len(shap_values)):\n",
    "                if shap_values[j] > threshold_value:\n",
    "                    num_contributing_features += 1\n",
    "            contributing_features = shap_values_df[i:i + 1].stack().nlargest(num_contributing_features)\n",
    "            high_contributing_features_df = pd.concat([high_contributing_features_df, contributing_features], axis=0)\n",
    "        return high_contributing_features_df\n",
    "\n",
    "    def predict_feature(self, record):\n",
    "        record_prediction = self.model_autoencoder.predict(record)[:, self.counter]\n",
    "        return record_prediction\n",
    "\n",
    "    def explain_unsupervised_data(self, train_data, explain_data, autoencoder=None, return_shap_values=False):\n",
    "        self.model_autoencoder = autoencoder\n",
    "        if self.model_autoencoder is None:\n",
    "            self.train_autoencoder(train_data)\n",
    "\n",
    "        top_anomalies_to_explain = self.get_top_anomalies_to_explain(explain_data)\n",
    "        all_feature_sets_explanation = {}\n",
    "\n",
    "        for record_idx in top_anomalies_to_explain:\n",
    "            record_to_explain = explain_data.loc[record_idx]\n",
    "            error_df, total_mse = self.get_error_df_per_record(record_to_explain)\n",
    "            num_of_features = self.get_num_features_with_high_reconstruction_error(total_mse * error_df.shape[0], error_df)\n",
    "\n",
    "            top_error_df = error_df.head(num_of_features)\n",
    "            all_feature_sets_explanation[record_idx] = []\n",
    "            shap_values_all_features = [[] for num in range(num_of_features)]\n",
    "\n",
    "            background_set = self.get_background_set(train_data, 200).values\n",
    "            for i in range(num_of_features):\n",
    "                self.counter = top_error_df.index[i]\n",
    "                explainer = shap.KernelExplainer(self.predict_feature, background_set)\n",
    "                shap_values = explainer.shap_values(record_to_explain, nsamples='auto')\n",
    "                shap_values_all_features[i] = shap_values\n",
    "\n",
    "            shap_values_all_features = np.fabs(shap_values_all_features)\n",
    "            shap_values_all_features = pd.DataFrame(data=shap_values_all_features, columns=train_data.columns)\n",
    "            highest_contributing_features = self.get_high_shap_values(shap_values_all_features)\n",
    "\n",
    "            for idx_explained_feature in range(num_of_features):\n",
    "                feature_set = []\n",
    "                for idx, row in highest_contributing_features.iterrows():\n",
    "                    if idx[0] == idx_explained_feature:\n",
    "                        feature_set.append((idx[1], row[0]))\n",
    "                explained_feature_index = top_error_df.index[idx_explained_feature]\n",
    "                feature_set.insert(0, (train_data.columns[explained_feature_index], -1))\n",
    "\n",
    "                all_feature_sets_explanation[record_idx].append(feature_set)\n",
    "\n",
    "            final_feature_set = []\n",
    "            final_feature_items = []\n",
    "            for item in sum(all_feature_sets_explanation[record_idx], []):\n",
    "                if item[0] not in final_feature_set:\n",
    "                    final_feature_set.append(item[0])\n",
    "                    final_feature_items.append(item)\n",
    "\n",
    "            if return_shap_values:\n",
    "                all_feature_sets_explanation[record_idx] = final_feature_items\n",
    "            else:\n",
    "                all_feature_sets_explanation[record_idx] = final_feature_set\n",
    "\n",
    "        return all_feature_sets_explanation\n"
   ]
  },
  {
   "cell_type": "code",
   "execution_count": 89,
   "id": "11a4a49e",
   "metadata": {},
   "outputs": [],
   "source": [
    "import pandas as pd\n",
    "from sklearn.preprocessing import MinMaxScaler"
   ]
  },
  {
   "cell_type": "code",
   "execution_count": 90,
   "id": "a4fd0d13",
   "metadata": {},
   "outputs": [],
   "source": [
    "benign = pd.read_csv(r\"C:/Users\\sampa\\Desktop\\dataset\\REGULAR.csv\")\n",
    "Attack = pd.read_csv(r\"C:/Users\\sampa\\Desktop\\dataset\\IOT\\Hulk-Evasive.csv\")\n",
    "\n",
    "\n",
    "# selected columns (Add more columns)\n",
    "# cols is the column list for benign dataset\n",
    "cols = ['Flow Packets/s', 'Fwd PSH Flags', 'Fwd Packets/s', 'Bwd Packets/s','FIN Flag Count', 'PSH Flag Count', 'Fwd Bytes/Bulk Avg',\n",
    "       'Fwd Packet/Bulk Avg', 'Fwd Bulk Rate Avg', 'Fwd Act Data Pkts','Fwd Packet Length Max', 'Fwd Packet Length Mean',\n",
    "       'Fwd Packet Length Std', 'Bwd Packet Length Max','Bwd Packet Length Mean', 'Bwd Packet Length Std', 'Packet Length Max',\n",
    "       'Packet Length Mean', 'Packet Length Std', 'Packet Length Variance','RST Flag Count', 'Average Packet Size', 'Fwd Segment Size Avg',\n",
    "       'Bwd Segment Size Avg', 'Subflow Fwd Bytes', 'Subflow Bwd Bytes']\n",
    "\n",
    "# catt_cols is the column list for attack dataset (including Label column)\n",
    "att_cols = ['Flow Packets/s', 'Fwd PSH Flags', 'Fwd Packets/s', 'Bwd Packets/s','FIN Flag Count', 'PSH Flag Count', 'Fwd Bytes/Bulk Avg',\n",
    "       'Fwd Packet/Bulk Avg', 'Fwd Bulk Rate Avg', 'Fwd Act Data Pkts','Fwd Packet Length Max', 'Fwd Packet Length Mean',\n",
    "       'Fwd Packet Length Std', 'Bwd Packet Length Max','Bwd Packet Length Mean', 'Bwd Packet Length Std', 'Packet Length Max',\n",
    "       'Packet Length Mean', 'Packet Length Std', 'Packet Length Variance','RST Flag Count', 'Average Packet Size', 'Fwd Segment Size Avg',\n",
    "       'Bwd Segment Size Avg', 'Subflow Fwd Bytes', 'Subflow Bwd Bytes','Label']\n",
    "\n",
    "#%%\n",
    "# filter columns\n",
    "benign = benign[cols]\n",
    "# remove inf values\n",
    "benign = benign.replace([np.inf], np.nan)\n",
    "benign.dropna(inplace=True)\n",
    "\n",
    "# filter columns\n",
    "Attack = Attack[att_cols]\n",
    "# remove inf values\n",
    "Attack = Attack.replace([np.inf], np.nan)\n",
    "Attack.dropna(inplace=True)\n",
    "\n",
    "#%%\n",
    "# data normalization (this will convert all columns to 0-1 range)\n",
    "scaler = MinMaxScaler()\n",
    "fit_scaling = scaler.fit(benign)\n",
    "fit_apply = fit_scaling.transform(benign)  # fit the scaler for benign dataset\n",
    "benign_norm = pd.DataFrame(fit_apply, columns=benign.columns, index=benign.index)\n",
    "\n",
    "Attack_label = Attack[['Label']]\n",
    "Attack_X = Attack.drop('Label', axis=1)\n",
    "fit_apply = fit_scaling.transform(Attack_X)  # apply normalization to attack dataset\n",
    "attack_norm = pd.DataFrame(fit_apply, columns=Attack_X.columns, index=Attack_X.index)\n",
    "\n",
    "\n",
    "\n",
    "# data preparation for autoencoder model\n",
    "X_train = benign_norm   # convert pandas dataframe into a array\n",
    "X_test = attack_norm\n"
   ]
  },
  {
   "cell_type": "code",
   "execution_count": 91,
   "id": "a3f4dd96",
   "metadata": {},
   "outputs": [
    {
     "data": {
      "text/html": [
       "<div>\n",
       "<style scoped>\n",
       "    .dataframe tbody tr th:only-of-type {\n",
       "        vertical-align: middle;\n",
       "    }\n",
       "\n",
       "    .dataframe tbody tr th {\n",
       "        vertical-align: top;\n",
       "    }\n",
       "\n",
       "    .dataframe thead th {\n",
       "        text-align: right;\n",
       "    }\n",
       "</style>\n",
       "<table border=\"1\" class=\"dataframe\">\n",
       "  <thead>\n",
       "    <tr style=\"text-align: right;\">\n",
       "      <th></th>\n",
       "      <th>Flow Packets/s</th>\n",
       "      <th>Fwd PSH Flags</th>\n",
       "      <th>Fwd Packets/s</th>\n",
       "      <th>Bwd Packets/s</th>\n",
       "      <th>FIN Flag Count</th>\n",
       "      <th>PSH Flag Count</th>\n",
       "      <th>Fwd Bytes/Bulk Avg</th>\n",
       "      <th>Fwd Packet/Bulk Avg</th>\n",
       "      <th>Fwd Bulk Rate Avg</th>\n",
       "      <th>Fwd Act Data Pkts</th>\n",
       "      <th>...</th>\n",
       "      <th>Packet Length Max</th>\n",
       "      <th>Packet Length Mean</th>\n",
       "      <th>Packet Length Std</th>\n",
       "      <th>Packet Length Variance</th>\n",
       "      <th>RST Flag Count</th>\n",
       "      <th>Average Packet Size</th>\n",
       "      <th>Fwd Segment Size Avg</th>\n",
       "      <th>Bwd Segment Size Avg</th>\n",
       "      <th>Subflow Fwd Bytes</th>\n",
       "      <th>Subflow Bwd Bytes</th>\n",
       "    </tr>\n",
       "  </thead>\n",
       "  <tbody>\n",
       "    <tr>\n",
       "      <th>0</th>\n",
       "      <td>0.000340</td>\n",
       "      <td>0.000000</td>\n",
       "      <td>0.000681</td>\n",
       "      <td>0.00000</td>\n",
       "      <td>0.0</td>\n",
       "      <td>0.000000</td>\n",
       "      <td>0.000000</td>\n",
       "      <td>0.000000</td>\n",
       "      <td>0.000000</td>\n",
       "      <td>0.000000</td>\n",
       "      <td>...</td>\n",
       "      <td>0.000000</td>\n",
       "      <td>0.000000</td>\n",
       "      <td>0.000000</td>\n",
       "      <td>0.000000</td>\n",
       "      <td>0.0</td>\n",
       "      <td>0.000000</td>\n",
       "      <td>0.000000</td>\n",
       "      <td>0.000000</td>\n",
       "      <td>0.000000</td>\n",
       "      <td>0.000000</td>\n",
       "    </tr>\n",
       "    <tr>\n",
       "      <th>1</th>\n",
       "      <td>0.000082</td>\n",
       "      <td>0.000000</td>\n",
       "      <td>0.000164</td>\n",
       "      <td>0.00000</td>\n",
       "      <td>0.0</td>\n",
       "      <td>0.000000</td>\n",
       "      <td>0.018674</td>\n",
       "      <td>0.027211</td>\n",
       "      <td>0.004687</td>\n",
       "      <td>0.215947</td>\n",
       "      <td>...</td>\n",
       "      <td>0.041436</td>\n",
       "      <td>0.125636</td>\n",
       "      <td>0.000000</td>\n",
       "      <td>0.000000</td>\n",
       "      <td>0.0</td>\n",
       "      <td>0.125636</td>\n",
       "      <td>0.457317</td>\n",
       "      <td>0.000000</td>\n",
       "      <td>0.457317</td>\n",
       "      <td>0.000000</td>\n",
       "    </tr>\n",
       "    <tr>\n",
       "      <th>2</th>\n",
       "      <td>0.000015</td>\n",
       "      <td>0.000000</td>\n",
       "      <td>0.000030</td>\n",
       "      <td>0.00000</td>\n",
       "      <td>0.0</td>\n",
       "      <td>0.000000</td>\n",
       "      <td>0.000000</td>\n",
       "      <td>0.000000</td>\n",
       "      <td>0.000000</td>\n",
       "      <td>0.000000</td>\n",
       "      <td>...</td>\n",
       "      <td>0.000000</td>\n",
       "      <td>0.000000</td>\n",
       "      <td>0.000000</td>\n",
       "      <td>0.000000</td>\n",
       "      <td>0.0</td>\n",
       "      <td>0.000000</td>\n",
       "      <td>0.000000</td>\n",
       "      <td>0.000000</td>\n",
       "      <td>0.000000</td>\n",
       "      <td>0.000000</td>\n",
       "    </tr>\n",
       "    <tr>\n",
       "      <th>3</th>\n",
       "      <td>0.000879</td>\n",
       "      <td>0.128205</td>\n",
       "      <td>0.001147</td>\n",
       "      <td>0.00059</td>\n",
       "      <td>0.0</td>\n",
       "      <td>0.042272</td>\n",
       "      <td>0.000000</td>\n",
       "      <td>0.000000</td>\n",
       "      <td>0.000000</td>\n",
       "      <td>0.046512</td>\n",
       "      <td>...</td>\n",
       "      <td>0.019890</td>\n",
       "      <td>0.018598</td>\n",
       "      <td>0.010679</td>\n",
       "      <td>0.000114</td>\n",
       "      <td>0.0</td>\n",
       "      <td>0.018598</td>\n",
       "      <td>0.045732</td>\n",
       "      <td>0.012796</td>\n",
       "      <td>0.028963</td>\n",
       "      <td>0.010059</td>\n",
       "    </tr>\n",
       "    <tr>\n",
       "      <th>4</th>\n",
       "      <td>0.000319</td>\n",
       "      <td>0.923077</td>\n",
       "      <td>0.000316</td>\n",
       "      <td>0.00031</td>\n",
       "      <td>0.0</td>\n",
       "      <td>0.145310</td>\n",
       "      <td>0.000000</td>\n",
       "      <td>0.000000</td>\n",
       "      <td>0.000000</td>\n",
       "      <td>0.355482</td>\n",
       "      <td>...</td>\n",
       "      <td>0.019890</td>\n",
       "      <td>0.013767</td>\n",
       "      <td>0.010207</td>\n",
       "      <td>0.000104</td>\n",
       "      <td>0.0</td>\n",
       "      <td>0.013767</td>\n",
       "      <td>0.098448</td>\n",
       "      <td>0.000208</td>\n",
       "      <td>0.048780</td>\n",
       "      <td>0.000000</td>\n",
       "    </tr>\n",
       "  </tbody>\n",
       "</table>\n",
       "<p>5 rows × 26 columns</p>\n",
       "</div>"
      ],
      "text/plain": [
       "   Flow Packets/s  Fwd PSH Flags  Fwd Packets/s  Bwd Packets/s  \\\n",
       "0        0.000340       0.000000       0.000681        0.00000   \n",
       "1        0.000082       0.000000       0.000164        0.00000   \n",
       "2        0.000015       0.000000       0.000030        0.00000   \n",
       "3        0.000879       0.128205       0.001147        0.00059   \n",
       "4        0.000319       0.923077       0.000316        0.00031   \n",
       "\n",
       "   FIN Flag Count  PSH Flag Count  Fwd Bytes/Bulk Avg  Fwd Packet/Bulk Avg  \\\n",
       "0             0.0        0.000000            0.000000             0.000000   \n",
       "1             0.0        0.000000            0.018674             0.027211   \n",
       "2             0.0        0.000000            0.000000             0.000000   \n",
       "3             0.0        0.042272            0.000000             0.000000   \n",
       "4             0.0        0.145310            0.000000             0.000000   \n",
       "\n",
       "   Fwd Bulk Rate Avg  Fwd Act Data Pkts  ...  Packet Length Max  \\\n",
       "0           0.000000           0.000000  ...           0.000000   \n",
       "1           0.004687           0.215947  ...           0.041436   \n",
       "2           0.000000           0.000000  ...           0.000000   \n",
       "3           0.000000           0.046512  ...           0.019890   \n",
       "4           0.000000           0.355482  ...           0.019890   \n",
       "\n",
       "   Packet Length Mean  Packet Length Std  Packet Length Variance  \\\n",
       "0            0.000000           0.000000                0.000000   \n",
       "1            0.125636           0.000000                0.000000   \n",
       "2            0.000000           0.000000                0.000000   \n",
       "3            0.018598           0.010679                0.000114   \n",
       "4            0.013767           0.010207                0.000104   \n",
       "\n",
       "   RST Flag Count  Average Packet Size  Fwd Segment Size Avg  \\\n",
       "0             0.0             0.000000              0.000000   \n",
       "1             0.0             0.125636              0.457317   \n",
       "2             0.0             0.000000              0.000000   \n",
       "3             0.0             0.018598              0.045732   \n",
       "4             0.0             0.013767              0.098448   \n",
       "\n",
       "   Bwd Segment Size Avg  Subflow Fwd Bytes  Subflow Bwd Bytes  \n",
       "0              0.000000           0.000000           0.000000  \n",
       "1              0.000000           0.457317           0.000000  \n",
       "2              0.000000           0.000000           0.000000  \n",
       "3              0.012796           0.028963           0.010059  \n",
       "4              0.000208           0.048780           0.000000  \n",
       "\n",
       "[5 rows x 26 columns]"
      ]
     },
     "execution_count": 91,
     "metadata": {},
     "output_type": "execute_result"
    }
   ],
   "source": [
    "X_train.head()"
   ]
  },
  {
   "cell_type": "code",
   "execution_count": 92,
   "id": "a886ec93",
   "metadata": {},
   "outputs": [
    {
     "data": {
      "text/plain": [
       "Index(['Flow Packets/s', 'Fwd PSH Flags', 'Fwd Packets/s', 'Bwd Packets/s',\n",
       "       'FIN Flag Count', 'PSH Flag Count', 'Fwd Bytes/Bulk Avg',\n",
       "       'Fwd Packet/Bulk Avg', 'Fwd Bulk Rate Avg', 'Fwd Act Data Pkts',\n",
       "       'Fwd Packet Length Max', 'Fwd Packet Length Mean',\n",
       "       'Fwd Packet Length Std', 'Bwd Packet Length Max',\n",
       "       'Bwd Packet Length Mean', 'Bwd Packet Length Std', 'Packet Length Max',\n",
       "       'Packet Length Mean', 'Packet Length Std', 'Packet Length Variance',\n",
       "       'RST Flag Count', 'Average Packet Size', 'Fwd Segment Size Avg',\n",
       "       'Bwd Segment Size Avg', 'Subflow Fwd Bytes', 'Subflow Bwd Bytes'],\n",
       "      dtype='object')"
      ]
     },
     "execution_count": 92,
     "metadata": {},
     "output_type": "execute_result"
    }
   ],
   "source": [
    "X_test.columns"
   ]
  },
  {
   "cell_type": "code",
   "execution_count": 93,
   "id": "546ced0d",
   "metadata": {},
   "outputs": [
    {
     "data": {
      "text/plain": [
       "Index(['Flow Packets/s', 'Fwd PSH Flags', 'Fwd Packets/s', 'Bwd Packets/s',\n",
       "       'FIN Flag Count', 'PSH Flag Count', 'Fwd Bytes/Bulk Avg',\n",
       "       'Fwd Packet/Bulk Avg', 'Fwd Bulk Rate Avg', 'Fwd Act Data Pkts',\n",
       "       'Fwd Packet Length Max', 'Fwd Packet Length Mean',\n",
       "       'Fwd Packet Length Std', 'Bwd Packet Length Max',\n",
       "       'Bwd Packet Length Mean', 'Bwd Packet Length Std', 'Packet Length Max',\n",
       "       'Packet Length Mean', 'Packet Length Std', 'Packet Length Variance',\n",
       "       'RST Flag Count', 'Average Packet Size', 'Fwd Segment Size Avg',\n",
       "       'Bwd Segment Size Avg', 'Subflow Fwd Bytes', 'Subflow Bwd Bytes'],\n",
       "      dtype='object')"
      ]
     },
     "execution_count": 93,
     "metadata": {},
     "output_type": "execute_result"
    }
   ],
   "source": [
    "X_train.columns"
   ]
  },
  {
   "cell_type": "code",
   "execution_count": 94,
   "id": "ec128d34",
   "metadata": {},
   "outputs": [
    {
     "data": {
      "text/plain": [
       "(757027, 26)"
      ]
     },
     "execution_count": 94,
     "metadata": {},
     "output_type": "execute_result"
    }
   ],
   "source": [
    "X_test.shape"
   ]
  },
  {
   "cell_type": "code",
   "execution_count": 95,
   "id": "4fc91279",
   "metadata": {},
   "outputs": [
    {
     "data": {
      "text/plain": [
       "Hulk-Evasive    756987\n",
       "BENIGN              40\n",
       "Name: Label, dtype: int64"
      ]
     },
     "execution_count": 95,
     "metadata": {},
     "output_type": "execute_result"
    }
   ],
   "source": [
    "Attack.Label.value_counts()"
   ]
  },
  {
   "cell_type": "code",
   "execution_count": 96,
   "id": "ec97b2ab",
   "metadata": {},
   "outputs": [],
   "source": [
    "exp_model = AnomalyExplanationUsingSHAP(num_anomalies=2)\n"
   ]
  },
  {
   "cell_type": "code",
   "execution_count": 97,
   "id": "abfb0c06",
   "metadata": {},
   "outputs": [
    {
     "name": "stdout",
     "output_type": "stream",
     "text": [
      "Training data features: 26\n",
      "Model: \"model_2\"\n",
      "_________________________________________________________________\n",
      " Layer (type)                Output Shape              Param #   \n",
      "=================================================================\n",
      " input_3 (InputLayer)        [(None, 26)]              0         \n",
      "                                                                 \n",
      " dense_10 (Dense)            (None, 10)                270       \n",
      "                                                                 \n",
      " dense_11 (Dense)            (None, 32)                352       \n",
      "                                                                 \n",
      " dense_12 (Dense)            (None, 10)                330       \n",
      "                                                                 \n",
      " dense_13 (Dense)            (None, 32)                352       \n",
      "                                                                 \n",
      " dense_14 (Dense)            (None, 26)                858       \n",
      "                                                                 \n",
      "=================================================================\n",
      "Total params: 2,162\n",
      "Trainable params: 2,162\n",
      "Non-trainable params: 0\n",
      "_________________________________________________________________\n",
      "Epoch 1/5\n",
      "4278/4278 - 6s - loss: 0.0028 - mse: 0.0027 - val_loss: 1.5810e-04 - val_mse: 9.7630e-05 - 6s/epoch - 1ms/step\n",
      "Epoch 2/5\n",
      "4278/4278 - 5s - loss: 1.2950e-04 - mse: 7.3757e-05 - val_loss: 8.5140e-05 - val_mse: 3.2642e-05 - 5s/epoch - 1ms/step\n",
      "Epoch 3/5\n",
      "4278/4278 - 5s - loss: 7.9990e-05 - mse: 3.0833e-05 - val_loss: 6.1081e-05 - val_mse: 1.4974e-05 - 5s/epoch - 1ms/step\n",
      "Epoch 4/5\n",
      "4278/4278 - 6s - loss: 6.5138e-05 - mse: 2.1645e-05 - val_loss: 5.2326e-05 - val_mse: 1.1099e-05 - 6s/epoch - 1ms/step\n",
      "Epoch 5/5\n",
      "4278/4278 - 6s - loss: 5.8738e-05 - mse: 1.9453e-05 - val_loss: 4.7814e-05 - val_mse: 1.0130e-05 - 6s/epoch - 1ms/step\n",
      "23658/23658 [==============================] - 23s 951us/step\n",
      "1/1 [==============================] - 0s 60ms/step\n",
      "7/7 [==============================] - 0s 997us/step\n",
      "1/1 [==============================] - 0s 16ms/step\n",
      "13125/13125 [==============================] - 14s 1ms/step\n",
      "7/7 [==============================] - 0s 1ms/step\n",
      "1/1 [==============================] - 0s 17ms/step\n",
      "13125/13125 [==============================] - 14s 1ms/step\n",
      "7/7 [==============================] - 0s 1ms/step\n",
      "1/1 [==============================] - 0s 16ms/step\n",
      "13125/13125 [==============================] - 14s 1ms/step\n",
      "7/7 [==============================] - 0s 1ms/step\n",
      "1/1 [==============================] - 0s 15ms/step\n",
      "13125/13125 [==============================] - 14s 1ms/step\n",
      "1/1 [==============================] - 0s 19ms/step\n",
      "7/7 [==============================] - 0s 1ms/step\n",
      "1/1 [==============================] - 0s 16ms/step\n",
      "13125/13125 [==============================] - 14s 1ms/step\n",
      "7/7 [==============================] - 0s 1ms/step\n",
      "1/1 [==============================] - 0s 17ms/step\n",
      "13125/13125 [==============================] - 15s 1ms/step\n",
      "7/7 [==============================] - 0s 1ms/step\n",
      "1/1 [==============================] - 0s 16ms/step\n",
      "13125/13125 [==============================] - 15s 1ms/step\n",
      "7/7 [==============================] - 0s 1ms/step\n",
      "1/1 [==============================] - 0s 16ms/step\n",
      "13125/13125 [==============================] - 15s 1ms/step\n"
     ]
    }
   ],
   "source": [
    "all_feature_sets_explanation = exp_model.explain_unsupervised_data(train_data=X_train, \n",
    "                                                                   explain_data=X_test,\n",
    "                                                                   return_shap_values=True)\n"
   ]
  },
  {
   "cell_type": "code",
   "execution_count": 80,
   "id": "05770e6e",
   "metadata": {},
   "outputs": [
    {
     "data": {
      "text/plain": [
       "{602902: [('RST Flag Count', -1),\n",
       "  ('Flow Packets/s', 0.3268074587450256),\n",
       "  ('Fwd Packets/s', 0.21972959975321688),\n",
       "  ('Bwd Packets/s', 0.1794535285190128)],\n",
       " 718029: [('RST Flag Count', -1),\n",
       "  ('Flow Packets/s', 0.31192656127256624),\n",
       "  ('Fwd Packets/s', 0.21185545594829075),\n",
       "  ('Bwd Packets/s', 0.17078843361276702),\n",
       "  ('Bwd Packet Length Mean', 0.03851290064131324)]}"
      ]
     },
     "execution_count": 80,
     "metadata": {},
     "output_type": "execute_result"
    }
   ],
   "source": [
    "all_feature_sets_explanation"
   ]
  },
  {
   "cell_type": "code",
   "execution_count": 81,
   "id": "d39f4fa8",
   "metadata": {},
   "outputs": [],
   "source": [
    "op = dict(all_feature_sets_explanation[602902])"
   ]
  },
  {
   "cell_type": "code",
   "execution_count": 83,
   "id": "7eb05d5f",
   "metadata": {},
   "outputs": [
    {
     "data": {
      "text/plain": [
       "dict"
      ]
     },
     "execution_count": 83,
     "metadata": {},
     "output_type": "execute_result"
    }
   ],
   "source": [
    "type (op)"
   ]
  },
  {
   "cell_type": "code",
   "execution_count": 84,
   "id": "8895f4ab",
   "metadata": {},
   "outputs": [],
   "source": [
    "def Convert(a):\n",
    "    it = iter(a)\n",
    "    res_dct = dict(zip(it, it))\n",
    "    return res_dct"
   ]
  },
  {
   "cell_type": "code",
   "execution_count": 85,
   "id": "77407c05",
   "metadata": {},
   "outputs": [],
   "source": [
    "D = Convert(all_feature_sets_explanation[602902])"
   ]
  },
  {
   "cell_type": "code",
   "execution_count": 86,
   "id": "4ba2e641",
   "metadata": {},
   "outputs": [],
   "source": [
    "D=op"
   ]
  },
  {
   "cell_type": "code",
   "execution_count": 87,
   "id": "cd7314ef",
   "metadata": {},
   "outputs": [
    {
     "data": {
      "text/plain": [
       "([<matplotlib.axis.XTick at 0x1d3a1a87550>,\n",
       "  <matplotlib.axis.XTick at 0x1d3a1a87a00>,\n",
       "  <matplotlib.axis.XTick at 0x1d3bf5b9220>,\n",
       "  <matplotlib.axis.XTick at 0x1d3ac3e4e80>],\n",
       " [Text(0, 0, 'RST Flag Count'),\n",
       "  Text(1, 0, 'Flow Packets/s'),\n",
       "  Text(2, 0, 'Fwd Packets/s'),\n",
       "  Text(3, 0, 'Bwd Packets/s')])"
      ]
     },
     "execution_count": 87,
     "metadata": {},
     "output_type": "execute_result"
    },
    {
     "data": {
      "image/png": "[encoded data removed]",
      "text/plain": [
       "<Figure size 720x432 with 1 Axes>"
      ]
     },
     "metadata": {
      "needs_background": "light"
     },
     "output_type": "display_data"
    }
   ],
   "source": [
    "plt.figure(figsize=(10,6))\n",
    "plt.bar(range(len(D)), list(D.values()), align='center')\n",
    "plt.xticks(rotation = 55) \n",
    "plt.xticks(range(len(D)), list(D.keys()))\n"
   ]
  },
  {
   "cell_type": "code",
   "execution_count": 32,
   "id": "4000873f",
   "metadata": {},
   "outputs": [],
   "source": [
    " # define X_train\n",
    "X_train = benign_norm.to_numpy() "
   ]
  },
  {
   "cell_type": "code",
   "execution_count": 98,
   "id": "177ec3ef",
   "metadata": {},
   "outputs": [
    {
     "data": {
      "text/plain": [
       "Index(['Flow Packets/s', 'Fwd PSH Flags', 'Fwd Packets/s', 'Bwd Packets/s',\n",
       "       'FIN Flag Count', 'PSH Flag Count', 'Fwd Bytes/Bulk Avg',\n",
       "       'Fwd Packet/Bulk Avg', 'Fwd Bulk Rate Avg', 'Fwd Act Data Pkts',\n",
       "       'Fwd Packet Length Max', 'Fwd Packet Length Mean',\n",
       "       'Fwd Packet Length Std', 'Bwd Packet Length Max',\n",
       "       'Bwd Packet Length Mean', 'Bwd Packet Length Std', 'Packet Length Max',\n",
       "       'Packet Length Mean', 'Packet Length Std', 'Packet Length Variance',\n",
       "       'RST Flag Count', 'Average Packet Size', 'Fwd Segment Size Avg',\n",
       "       'Bwd Segment Size Avg', 'Subflow Fwd Bytes', 'Subflow Bwd Bytes'],\n",
       "      dtype='object')"
      ]
     },
     "execution_count": 98,
     "metadata": {},
     "output_type": "execute_result"
    }
   ],
   "source": [
    "X_train.columns"
   ]
  },
  {
   "cell_type": "code",
   "execution_count": 99,
   "id": "5a463236",
   "metadata": {},
   "outputs": [
    {
     "name": "stdout",
     "output_type": "stream",
     "text": [
      "26\n",
      "26\n"
     ]
    }
   ],
   "source": [
    "print(len(X_train.columns))\n",
    "print(len(X_test.columns))"
   ]
  },
  {
   "cell_type": "code",
   "execution_count": 100,
   "id": "d5be1a85",
   "metadata": {},
   "outputs": [
    {
     "data": {
      "text/plain": [
       "Index(['Flow Packets/s', 'Fwd PSH Flags', 'Fwd Packets/s', 'Bwd Packets/s',\n",
       "       'FIN Flag Count', 'PSH Flag Count', 'Fwd Bytes/Bulk Avg',\n",
       "       'Fwd Packet/Bulk Avg', 'Fwd Bulk Rate Avg', 'Fwd Act Data Pkts',\n",
       "       'Fwd Packet Length Max', 'Fwd Packet Length Mean',\n",
       "       'Fwd Packet Length Std', 'Bwd Packet Length Max',\n",
       "       'Bwd Packet Length Mean', 'Bwd Packet Length Std', 'Packet Length Max',\n",
       "       'Packet Length Mean', 'Packet Length Std', 'Packet Length Variance',\n",
       "       'RST Flag Count', 'Average Packet Size', 'Fwd Segment Size Avg',\n",
       "       'Bwd Segment Size Avg', 'Subflow Fwd Bytes', 'Subflow Bwd Bytes'],\n",
       "      dtype='object')"
      ]
     },
     "execution_count": 100,
     "metadata": {},
     "output_type": "execute_result"
    }
   ],
   "source": [
    "X_test.columns"
   ]
  },
  {
   "cell_type": "code",
   "execution_count": 101,
   "id": "9ce1295a",
   "metadata": {},
   "outputs": [
    {
     "name": "stdout",
     "output_type": "stream",
     "text": [
      "9506/9506 [==============================] - 9s 903us/step\n"
     ]
    }
   ],
   "source": [
    "# threshold estimation using benign dataset\n",
    "# predictions for benign dataset\n",
    "import tensorflow\n",
    "autoencoder = tensorflow.keras.models.load_model(\"autoencoder.h5\")\n",
    "x_pred_benign = autoencoder.predict(X_train)\n",
    "benignMAE = np.mean(np.abs(X_train - x_pred_benign), axis=1)  # raw wise MAE calculation\n",
    "benign_norm['MAE'] = benignMAE  # add MAE as a column to benignMAE dataframe\n",
    "threshold = benign_norm['MAE'].quantile(0.99)  # 0.99 quantile threshold\n",
    "threshold_max = benign_norm['MAE'].max()  # maximum threshold"
   ]
  },
  {
   "cell_type": "code",
   "execution_count": 102,
   "id": "f3c65ccb",
   "metadata": {},
   "outputs": [
    {
     "name": "stdout",
     "output_type": "stream",
     "text": [
      "23658/23658 [==============================] - 29s 1ms/step\n"
     ]
    }
   ],
   "source": [
    "#%%\n",
    "# autoencoder prediction results for attack dataset\n",
    "x_pred_attack = autoencoder.predict(X_test)\n",
    "attackMAE = np.mean(np.abs(X_test - x_pred_attack), axis=1)  # raw wise MAE calculation\n",
    "Attack['MAE'] = attackMAE\n",
    "Attack['pred_label'] = np.where(Attack['MAE']>threshold,1,0)\n"
   ]
  },
  {
   "cell_type": "code",
   "execution_count": 103,
   "id": "b93237b9",
   "metadata": {},
   "outputs": [
    {
     "name": "stdout",
     "output_type": "stream",
     "text": [
      "27\n",
      "26\n",
      "26\n"
     ]
    }
   ],
   "source": [
    "print(len(X_train.columns))\n",
    "print(len(X_test.columns))\n",
    "X_train = X_train.drop('MAE',1)\n",
    "print(len(X_train.columns))"
   ]
  },
  {
   "cell_type": "code",
   "execution_count": 104,
   "id": "9e6db79b",
   "metadata": {},
   "outputs": [
    {
     "name": "stdout",
     "output_type": "stream",
     "text": [
      "(757001, 27)\n"
     ]
    }
   ],
   "source": [
    "# x test with predicted labels\n",
    "X_test['pred_label'] = Attack['pred_label']\n",
    "\n",
    "# select only attack data \n",
    "X_test_attack = X_test[X_test['pred_label']==1]\n",
    "print(X_test_attack.shape)\n",
    "# drop pred_lable column \n",
    "X_test_attack_new = X_test_attack.drop(['pred_label'], axis=1, inplace=True)\n",
    "# print(X_test_attack_new.shape)"
   ]
  },
  {
   "cell_type": "code",
   "execution_count": 105,
   "id": "2154d062",
   "metadata": {},
   "outputs": [
    {
     "data": {
      "text/plain": [
       "Index(['Flow Packets/s', 'Fwd PSH Flags', 'Fwd Packets/s', 'Bwd Packets/s',\n",
       "       'FIN Flag Count', 'PSH Flag Count', 'Fwd Bytes/Bulk Avg',\n",
       "       'Fwd Packet/Bulk Avg', 'Fwd Bulk Rate Avg', 'Fwd Act Data Pkts',\n",
       "       'Fwd Packet Length Max', 'Fwd Packet Length Mean',\n",
       "       'Fwd Packet Length Std', 'Bwd Packet Length Max',\n",
       "       'Bwd Packet Length Mean', 'Bwd Packet Length Std', 'Packet Length Max',\n",
       "       'Packet Length Mean', 'Packet Length Std', 'Packet Length Variance',\n",
       "       'RST Flag Count', 'Average Packet Size', 'Fwd Segment Size Avg',\n",
       "       'Bwd Segment Size Avg', 'Subflow Fwd Bytes', 'Subflow Bwd Bytes'],\n",
       "      dtype='object')"
      ]
     },
     "execution_count": 105,
     "metadata": {},
     "output_type": "execute_result"
    }
   ],
   "source": [
    "X_test_attack.columns"
   ]
  },
  {
   "cell_type": "code",
   "execution_count": 106,
   "id": "74bd6965",
   "metadata": {},
   "outputs": [],
   "source": [
    "X_train=pd.DataFrame(X_train)"
   ]
  },
  {
   "cell_type": "code",
   "execution_count": 107,
   "id": "ffa348dc",
   "metadata": {},
   "outputs": [
    {
     "data": {
      "text/plain": [
       "26"
      ]
     },
     "execution_count": 107,
     "metadata": {},
     "output_type": "execute_result"
    }
   ],
   "source": [
    "len(X_train.columns)"
   ]
  },
  {
   "cell_type": "code",
   "execution_count": 108,
   "id": "964fb7de",
   "metadata": {},
   "outputs": [
    {
     "data": {
      "text/plain": [
       "26"
      ]
     },
     "execution_count": 108,
     "metadata": {},
     "output_type": "execute_result"
    }
   ],
   "source": [
    "len(X_test_attack.columns)"
   ]
  },
  {
   "cell_type": "code",
   "execution_count": 118,
   "id": "9c097053",
   "metadata": {},
   "outputs": [],
   "source": [
    "exp_model = AnomalyExplanationUsingSHAP(num_anomalies=5)\n"
   ]
  },
  {
   "cell_type": "code",
   "execution_count": 119,
   "id": "e554cd78",
   "metadata": {},
   "outputs": [
    {
     "name": "stdout",
     "output_type": "stream",
     "text": [
      "Training data features: 26\n",
      "Model: \"model_4\"\n",
      "_________________________________________________________________\n",
      " Layer (type)                Output Shape              Param #   \n",
      "=================================================================\n",
      " input_5 (InputLayer)        [(None, 26)]              0         \n",
      "                                                                 \n",
      " dense_20 (Dense)            (None, 10)                270       \n",
      "                                                                 \n",
      " dense_21 (Dense)            (None, 32)                352       \n",
      "                                                                 \n",
      " dense_22 (Dense)            (None, 10)                330       \n",
      "                                                                 \n",
      " dense_23 (Dense)            (None, 32)                352       \n",
      "                                                                 \n",
      " dense_24 (Dense)            (None, 26)                858       \n",
      "                                                                 \n",
      "=================================================================\n",
      "Total params: 2,162\n",
      "Trainable params: 2,162\n",
      "Non-trainable params: 0\n",
      "_________________________________________________________________\n",
      "Epoch 1/5\n",
      "4278/4278 - 6s - loss: 0.0020 - mse: 0.0019 - val_loss: 1.7927e-04 - val_mse: 1.1419e-04 - 6s/epoch - 1ms/step\n",
      "Epoch 2/5\n",
      "4278/4278 - 5s - loss: 1.3687e-04 - mse: 7.6462e-05 - val_loss: 1.0690e-04 - val_mse: 5.1703e-05 - 5s/epoch - 1ms/step\n",
      "Epoch 3/5\n",
      "4278/4278 - 6s - loss: 9.7765e-05 - mse: 4.5796e-05 - val_loss: 7.9098e-05 - val_mse: 2.9488e-05 - 6s/epoch - 1ms/step\n",
      "Epoch 4/5\n",
      "4278/4278 - 6s - loss: 7.9011e-05 - mse: 3.1187e-05 - val_loss: 6.4440e-05 - val_mse: 1.8060e-05 - 6s/epoch - 1ms/step\n",
      "Epoch 5/5\n",
      "4278/4278 - 5s - loss: 6.8958e-05 - mse: 2.4585e-05 - val_loss: 5.8875e-05 - val_mse: 1.6332e-05 - 5s/epoch - 1ms/step\n",
      "23657/23657 [==============================] - 23s 951us/step\n",
      "1/1 [==============================] - 0s 69ms/step\n",
      "7/7 [==============================] - 0s 1ms/step\n",
      "1/1 [==============================] - 0s 16ms/step\n",
      "13125/13125 [==============================] - 12s 945us/step\n",
      "1/1 [==============================] - 0s 15ms/step\n",
      "7/7 [==============================] - 0s 1ms/step\n",
      "1/1 [==============================] - 0s 16ms/step\n",
      "13125/13125 [==============================] - 13s 1ms/step\n",
      "7/7 [==============================] - 0s 1ms/step\n",
      "1/1 [==============================] - 0s 22ms/step\n",
      "13125/13125 [==============================] - 13s 1ms/step\n",
      "1/1 [==============================] - 0s 20ms/step\n",
      "7/7 [==============================] - 0s 1ms/step\n",
      "1/1 [==============================] - 0s 16ms/step\n",
      "13125/13125 [==============================] - 14s 1ms/step\n",
      "7/7 [==============================] - 0s 1ms/step\n",
      "1/1 [==============================] - 0s 15ms/step\n",
      "13125/13125 [==============================] - 14s 1ms/step\n",
      "1/1 [==============================] - 0s 20ms/step\n",
      "7/7 [==============================] - 0s 1ms/step\n",
      "1/1 [==============================] - 0s 18ms/step\n",
      "13125/13125 [==============================] - 13s 1ms/step\n",
      "7/7 [==============================] - 0s 1ms/step\n",
      "1/1 [==============================] - 0s 16ms/step\n",
      "13125/13125 [==============================] - 14s 1ms/step\n",
      "1/1 [==============================] - 0s 15ms/step\n",
      "7/7 [==============================] - 0s 990us/step\n",
      "1/1 [==============================] - 0s 16ms/step\n",
      "13125/13125 [==============================] - 14s 1ms/step\n",
      "7/7 [==============================] - 0s 1ms/step\n",
      "1/1 [==============================] - 0s 17ms/step\n",
      "13125/13125 [==============================] - 14s 1ms/step\n"
     ]
    }
   ],
   "source": [
    "# model only for attack data 'X_test_attack'\n",
    "\n",
    "all_sets_explaining_features = exp_model.explain_unsupervised_data(train_data=X_train, \n",
    "                                                                   explain_data=X_test_attack,\n",
    "                                                                   return_shap_values=True)\n"
   ]
  },
  {
   "cell_type": "code",
   "execution_count": 120,
   "id": "396ef293",
   "metadata": {},
   "outputs": [
    {
     "data": {
      "text/plain": [
       "{602902: [('Fwd Packets/s', -1),\n",
       "  ('Bwd Packets/s', 0.42462947434082154),\n",
       "  ('Flow Packets/s', 0.0978703506966574)],\n",
       " 718029: [('Fwd Packets/s', -1),\n",
       "  ('Bwd Packets/s', 0.41226340884228724),\n",
       "  ('Flow Packets/s', 0.09596059191280204)],\n",
       " 384574: [('Fwd Packets/s', -1),\n",
       "  ('Bwd Packets/s', 0.41204830694881706),\n",
       "  ('Flow Packets/s', 0.09657459327937001)],\n",
       " 686625: [('Fwd Packets/s', -1),\n",
       "  ('Bwd Packets/s', 0.4079170536259522),\n",
       "  ('Flow Packets/s', 0.09544623583530365)],\n",
       " 548271: [('Fwd Packets/s', -1),\n",
       "  ('Bwd Packets/s', 0.39989277328283734),\n",
       "  ('Flow Packets/s', 0.09638657205231171)]}"
      ]
     },
     "execution_count": 120,
     "metadata": {},
     "output_type": "execute_result"
    }
   ],
   "source": [
    "all_sets_explaining_features"
   ]
  },
  {
   "cell_type": "code",
   "execution_count": 121,
   "id": "4438053e",
   "metadata": {},
   "outputs": [],
   "source": [
    "def Convert(a):\n",
    "    it = iter(a)\n",
    "    res_dct = dict(zip(it, it))\n",
    "    return res_dct"
   ]
  },
  {
   "cell_type": "code",
   "execution_count": 122,
   "id": "42015bdb",
   "metadata": {},
   "outputs": [],
   "source": [
    "D = Convert(all_sets_explaining_features[718029])"
   ]
  },
  {
   "cell_type": "code",
   "execution_count": 123,
   "id": "4afef4ea",
   "metadata": {},
   "outputs": [],
   "source": [
    "D=op"
   ]
  },
  {
   "cell_type": "code",
   "execution_count": 124,
   "id": "77a7037b",
   "metadata": {},
   "outputs": [
    {
     "data": {
      "text/plain": [
       "([<matplotlib.axis.XTick at 0x1d441ccaf40>,\n",
       "  <matplotlib.axis.XTick at 0x1d441cca370>,\n",
       "  <matplotlib.axis.XTick at 0x1d3cab053d0>,\n",
       "  <matplotlib.axis.XTick at 0x1d3a1ba88b0>],\n",
       " [Text(0, 0, 'RST Flag Count'),\n",
       "  Text(1, 0, 'Flow Packets/s'),\n",
       "  Text(2, 0, 'Fwd Packets/s'),\n",
       "  Text(3, 0, 'Bwd Packets/s')])"
      ]
     },
     "execution_count": 124,
     "metadata": {},
     "output_type": "execute_result"
    },
    {
     "data": {
      "image/png": "[encoded data removed]",
      "text/plain": [
       "<Figure size 720x432 with 1 Axes>"
      ]
     },
     "metadata": {
      "needs_background": "light"
     },
     "output_type": "display_data"
    }
   ],
   "source": [
    "plt.figure(figsize=(10,6))\n",
    "plt.bar(range(len(D)), list(D.values()), align='center')\n",
    "plt.xticks(rotation = 55) \n",
    "plt.xticks(range(len(D)), list(D.keys()))"
   ]
  }
 ],
 "metadata": {
  "kernelspec": {
   "display_name": "Python 3 (ipykernel)",
   "language": "python",
   "name": "python3"
  },
  "language_info": {
   "codemirror_mode": {
    "name": "ipython",
    "version": 3
   },
   "file_extension": ".py",
   "mimetype": "text/x-python",
   "name": "python",
   "nbconvert_exporter": "python",
   "pygments_lexer": "ipython3",
   "version": "3.9.7"
  }
 },
 "nbformat": 4,
 "nbformat_minor": 5
}
