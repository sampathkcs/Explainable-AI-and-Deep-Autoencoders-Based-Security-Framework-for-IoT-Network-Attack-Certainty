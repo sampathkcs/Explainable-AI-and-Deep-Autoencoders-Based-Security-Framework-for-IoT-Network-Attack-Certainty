{
 "cells": [
  {
   "cell_type": "code",
   "execution_count": 1,
   "id": "f03eeb92",
   "metadata": {},
   "outputs": [],
   "source": [
    "#imports various libraries including NumPy, pandas, TensorFlow, and SHAP. \n",
    "#These libraries are used for numerical operations, data manipulation, machine learning, and SHAP explanations\n",
    "import numpy as np\n",
    "import pandas as pd\n",
    "import tensorflow as tf\n",
    "from tensorflow.keras.models import Model\n",
    "from tensorflow.keras.layers import Input, Dense\n",
    "from tensorflow.keras import regularizers\n",
    "from tensorflow.keras.callbacks import EarlyStopping\n",
    "import matplotlib.pyplot as plt\n",
    "import shap\n",
    "import warnings\n",
    "import logging\n",
    "\n",
    "warnings.filterwarnings(\"ignore\")\n",
    "logger = logging.getLogger('shap')\n",
    "logger.disabled = True\n",
    "\n",
    "class AnomalyExplanationUsingSHAP:\n",
    "    '''\n",
    "    This class implements the method described in 'Explaining Anomalies Detected by Autoencoders Using SHAP' to explain\n",
    "    anomalies revealed by an unsupervised Autoencoder model using SHAP.\n",
    "    '''\n",
    "    \n",
    "    model_autoencoder = None\n",
    "    num_anomalies_to_explain = None\n",
    "    reconstruction_error_percentage = None\n",
    "    shap_values_selection_method = None\n",
    "    counter = None\n",
    "\n",
    "    def __init__(self, num_anomalies=100, reconstruction_error_percent=0.5, shap_selection='mean'):\n",
    "        \"\"\"\n",
    "        Args:\n",
    "            num_anomalies_to_explain (int): number of top ranked anomalies (ranked by anomaly score that is the mse) to\n",
    "                                            explain.\n",
    "            reconstruction_error_percent (float): Number between 0 to 1- see explanation to this parameter in\n",
    "                                                  'Explaining Anomalies Detected by Autoencoders Using SHAP' under\n",
    "                                                  ReconstructionErrorPercent.\n",
    "            shap_values_selection (str): One of the possible methods to choose explaining features by their SHAP values.\n",
    "                                         Can be: 'mean', 'median', 'constant'. See explanation to this parameter in\n",
    "                                         'Explaining Anomalies Detected by Autoencoders Using SHAP' under\n",
    "                                         SHAPvaluesSelection.\n",
    "        \"\"\"\n",
    "        self.num_anomalies_to_explain = num_anomalies\n",
    "        self.reconstruction_error_percentage = reconstruction_error_percent\n",
    "        self.shap_values_selection_method = shap_selection\n",
    "\n",
    "    def train_autoencoder(self, train_data, epochs=5, batch_size=64):\n",
    "        \"\"\"\n",
    "        Train 6-layer Autoencoder model on the given x_train data.\n",
    "\n",
    "        Args:\n",
    "            x_train (data frame): The data to train the Autoencoder model on\n",
    "            nb_epoch (int): Number of epoch the model will perform\n",
    "            batch_size (int): Size of each batch of data enter to the model\n",
    "\n",
    "        Returns:\n",
    "            model: Trained autoencoder\n",
    "        \"\"\"\n",
    "        input_dim = train_data.shape[1]\n",
    "        print('Training data features:', input_dim)\n",
    "\n",
    "        input_layer = Input(shape=(input_dim,))\n",
    "        encoder = Dense(10, activation=\"relu\", activity_regularizer=regularizers.l1(10e-7))(input_layer)\n",
    "        encoder = Dense(32, activation=\"relu\", kernel_regularizer=regularizers.l2(10e-7))(encoder)\n",
    "        decoder = Dense(10, activation='relu', kernel_regularizer=regularizers.l2(10e-7))(encoder)\n",
    "        decoder = Dense(32, activation='relu', kernel_regularizer=regularizers.l2(10e-7))(decoder)\n",
    "        decoder = Dense(input_dim, activation=None, kernel_regularizer=regularizers.l2(10e-7))(decoder)\n",
    "\n",
    "        self.model_autoencoder = Model(inputs=input_layer, outputs=decoder)\n",
    "        self.model_autoencoder.summary()\n",
    "\n",
    "        self.model_autoencoder.compile(optimizer='adam', loss='mean_squared_error', metrics=['mse'])\n",
    "\n",
    "        early_stopper = EarlyStopping(monitor='val_loss', patience=5, verbose=1)\n",
    "        self.model_autoencoder.fit(train_data, train_data, epochs=epochs, batch_size=batch_size, shuffle=True,\n",
    "                                   validation_split=0.1, verbose=2, callbacks=[early_stopper])\n",
    "        self.model_autoencoder.save(\"autoencoder.h5\")\n",
    "\n",
    "        return self.model_autoencoder\n",
    "                \n",
    "    def get_top_anomalies_to_explain(self, explain_data):\n",
    "        \"\"\"\n",
    "        Sort all records in x_explain by their MSE calculated according to their prediction by the trained Autoencoder\n",
    "        and return the top num_anomalies_to_explain (its value given by the user at class initialization) records.\n",
    "\n",
    "        Args:\n",
    "            x_explain (data frame): Set of records we want to explain the most anomalous ones from it.\n",
    "\n",
    "        Returns:\n",
    "            list: List of index of the top num_anomalies_to_explain records with highest MSE that will be explained.\n",
    "        \"\"\"\n",
    "        predictions = self.model_autoencoder.predict(explain_data)\n",
    "        squared_errors = np.power(explain_data - predictions, 2)\n",
    "        mse_series = pd.Series(np.mean(squared_errors, axis=1))\n",
    "\n",
    "        most_anomalous_transactions = mse_series.sort_values(ascending=False)\n",
    "        columns = [\"id\", \"mse_all_columns\"]\n",
    "        columns.extend([\"squared_error_\" + col for col in list(explain_data.columns)])\n",
    "        items = []\n",
    "        for x in most_anomalous_transactions.iteritems():\n",
    "            item = [x[0], x[1]]\n",
    "            item.extend(squared_errors.loc[x[0]])\n",
    "            items.append(item)\n",
    "\n",
    "        anomalies_df = pd.DataFrame(items, columns=columns)\n",
    "        anomalies_df.set_index('id', inplace=True)\n",
    "\n",
    "        top_anomalies_to_explain = anomalies_df.head(self.num_anomalies_to_explain).index\n",
    "        return top_anomalies_to_explain\n",
    "\n",
    "    def get_num_features_with_high_reconstruction_error(self, total_squared_error, errors_df):\n",
    "        \"\"\"\n",
    "        Calculate the number of features whose reconstruction errors sum to reconstruction_error_percent of the\n",
    "        total_squared_error of the records that selected to be explained at the moment. This is the number of the\n",
    "        top reconstructed errors features that going to be explained and eventually this features together with their\n",
    "        explanation will build up the features explanation set of this record.\n",
    "\n",
    "        Args:\n",
    "            total_squared_error (int): MSE of the records selected to be explained\n",
    "            errors_df (data frame): The reconstruction error of each feature- this is the first output output of\n",
    "                                    get_errors_df_per_record function\n",
    "\n",
    "        Returns:\n",
    "            int: Number of features whose reconstruction errors sum to reconstruction_error_percent of the\n",
    "                 total_squared_error of the records that selected to be explained at the moment\n",
    "        \"\"\"\n",
    "        error_sum = 0\n",
    "        num_features = 0\n",
    "        for index in errors_df.index:\n",
    "            error_sum += errors_df.loc[index, 'err']\n",
    "            if error_sum >= self.reconstruction_error_percentage * total_squared_error:\n",
    "                break\n",
    "            num_features += 1\n",
    "        return num_features\n",
    "\n",
    "    def get_background_set(self, train_data, background_size=200):\n",
    "        \"\"\"\n",
    "        Get the first background_size records from x_train data and return it. Used for SHAP explanation process.\n",
    "\n",
    "        Args:\n",
    "            x_train (data frame): the data we will get the background set from\n",
    "            background_size (int): The number of records to select from x_train. Default value is 200.\n",
    "\n",
    "        Returns:\n",
    "            data frame: Records from x_train that will be the background set of the explanation of the record that we\n",
    "                        explain at that moment using SHAP.\n",
    "        \"\"\"\n",
    "        background_set = train_data.head(background_size)\n",
    "        return background_set\n",
    "\n",
    "    def get_error_df_per_record(self, record):\n",
    "        \"\"\"\n",
    "        Create data frame of the reconstruction errors of each features of the given record. Eventually we get data\n",
    "        frame so each row contain the index of feature, its name, and its reconstruction error based on the record\n",
    "        prediction provided by the trained autoencoder. This data frame is sorted by the reconstruction error of the\n",
    "        features\n",
    "\n",
    "        Args:\n",
    "            record (pandas series): The record we explain at the moment; values of all its features.\n",
    "\n",
    "        Returns:\n",
    "            data frame: Data frame of all features reconstruction error sorted by the reconstruction error.\n",
    "        \"\"\"\n",
    "        prediction = self.model_autoencoder.predict(np.array([[record]])[0])[0]\n",
    "        squared_errors = np.power(record - prediction, 2)\n",
    "        errors_df = pd.DataFrame({'col_name': squared_errors.index, 'err': squared_errors}).reset_index(drop=True)\n",
    "        total_mse = np.mean(squared_errors)\n",
    "        errors_df.sort_values(by='err', ascending=False, inplace=True)\n",
    "        return errors_df, total_mse\n",
    "\n",
    "    def get_high_shap_values(self, shap_values_df):\n",
    "        \"\"\"\n",
    "        Choosing explaining features based on their SHAP values by shap_values_selection method (mean, median, constant)\n",
    "        i.e. remove all features with SHAP values that do not meet the method requirements as described in 'Explaining\n",
    "        Anomalies Detected by Autoencoders Using SHAP' under SHAPvaluesSelection.\n",
    "\n",
    "        Args:\n",
    "            shap_values_df (data frame): Data frame with all existing features and their SHAP values.\n",
    "\n",
    "        Returns:\n",
    "            data frame: Data frame that contain for each feature we explain (features with high reconstruction error)\n",
    "                        its explaining features that selected by the shap_values_selection method and their SHAP values.\n",
    "        \"\"\"\n",
    "        high_contributing_features_df = pd.DataFrame()\n",
    "\n",
    "        for i in range(shap_values_df.shape[0]):\n",
    "            shap_values = shap_values_df.iloc[i]\n",
    "            if self.shap_values_selection_method == 'mean':\n",
    "                threshold_value = np.mean(shap_values)\n",
    "            elif self.shap_values_selection_method == 'median':\n",
    "                threshold_value = np.median(shap_values)\n",
    "            elif self.shap_values_selection_method == 'constant':\n",
    "                num_explaining_features = 5\n",
    "                explaining_features = shap_values_df[i:i + 1].stack().nlargest(num_explaining_features)\n",
    "                high_contributing_features_df = pd.concat([high_contributing_features_df, explaining_features], axis=0)\n",
    "                continue\n",
    "            else:\n",
    "                raise ValueError('Unknown SHAP value selection method')\n",
    "\n",
    "            num_contributing_features = 0\n",
    "            for j in range(len(shap_values)):\n",
    "                if shap_values[j] > threshold_value:\n",
    "                    num_contributing_features += 1\n",
    "            contributing_features = shap_values_df[i:i + 1].stack().nlargest(num_contributing_features)\n",
    "            high_contributing_features_df = pd.concat([high_contributing_features_df, contributing_features], axis=0)\n",
    "        return high_contributing_features_df\n",
    "\n",
    "    def predict_feature(self, record):\n",
    "        \"\"\"\n",
    "        Predict the value of specific feature (with 'counter' index) using the trained autoencoder\n",
    "\n",
    "        Args:\n",
    "            record (pandas series): The record we explain at the moment; values of all its features.\n",
    "\n",
    "        Returns:\n",
    "            list: List the size of the number of features, contain the value of the predicted features with 'counter'\n",
    "                  index (the feature we explain at the moment)\n",
    "        \"\"\"\n",
    "\n",
    "        record_prediction = self.model_autoencoder.predict(record)[:, self.counter]\n",
    "        return record_prediction\n",
    "\n",
    "    def explain_unsupervised_data(self, train_data, explain_data, autoencoder=None, return_shap_values=False):\n",
    "        \"\"\"\n",
    "        Explanation Process:\n",
    "        1. If no Autoencoder model is provided ('autoencoder' is None), a new Autoencoder model is trained on the given 'x_train' data.\n",
    "        2. For each record in 'top_records_to_explain', selected from the given 'x_explain' based on the 'get_top_anomaly_to_explain' function:\n",
    "           a. SHAP is used to explain features with the highest reconstruction error as determined by the 'get_num_features_with_highest_reconstruction_error' function.\n",
    "           b. SHAP values of each feature in the explanation are obtained for the high-reconstruction-error feature.\n",
    "           c. Explaining features are selected using the 'highest_contributing_features' function.\n",
    "        3. The explanation features set is constructed:\n",
    "           a. Starting with the feature with the highest reconstruction error and its explaining features.\n",
    "           b. Subsequent features with lower reconstruction errors and their corresponding explaining features are added, ensuring no duplicates.\n",
    "\n",
    "        Args:\n",
    "            x_train (DataFrame): Data used to train the autoencoder model and select the background set for SHAP explanation.\n",
    "            x_explain (DataFrame): Data from which the top 'num_anomalies_to_explain' records are selected based on their MSE for explanation.\n",
    "            autoencoder (model): Trained Autoencoder model to explain 'x_explain' data. If None, a new Autoencoder model is trained as described in the 'train_model' function.\n",
    "            return_shap_values (bool): If False, explanation feature sets for each record include only feature names. If True, SHAP values are included, forming tuples of (str, float) where str is the explaining feature name and float is its SHAP value.\n",
    "                                      Note: Explained features with no previous feature explanation (higher reconstruction error) will have a unique SHAP value of -1.\n",
    "        Returns:\n",
    "            dict: A dictionary containing explanations for 'top_records_to_explain' records. Keys are record indexes (int), and values are lists representing explanation feature sets.\n",
    "        \"\"\"\n",
    "\n",
    "        self.model_autoencoder = autoencoder\n",
    "        if self.model_autoencoder is None:\n",
    "            self.train_autoencoder(train_data)\n",
    "\n",
    "        top_anomalies_to_explain = self.get_top_anomalies_to_explain(explain_data)\n",
    "        all_feature_sets_explanation = {}\n",
    "\n",
    "        for record_idx in top_anomalies_to_explain:\n",
    "            record_to_explain = explain_data.loc[record_idx]\n",
    "            error_df, total_mse = self.get_error_df_per_record(record_to_explain)\n",
    "            num_of_features = self.get_num_features_with_high_reconstruction_error(total_mse * error_df.shape[0], error_df)\n",
    "\n",
    "            top_error_df = error_df.head(num_of_features)\n",
    "            all_feature_sets_explanation[record_idx] = []\n",
    "            shap_values_all_features = [[] for num in range(num_of_features)]\n",
    "\n",
    "            background_set = self.get_background_set(train_data, 200).values\n",
    "            for i in range(num_of_features):\n",
    "                self.counter = top_error_df.index[i]\n",
    "                explainer = shap.KernelExplainer(self.predict_feature, background_set)\n",
    "                shap_values = explainer.shap_values(record_to_explain, nsamples='auto')\n",
    "                shap_values_all_features[i] = shap_values\n",
    "\n",
    "            shap_values_all_features = np.fabs(shap_values_all_features)\n",
    "            shap_values_all_features = pd.DataFrame(data=shap_values_all_features, columns=train_data.columns)\n",
    "            highest_contributing_features = self.get_high_shap_values(shap_values_all_features)\n",
    "\n",
    "            for idx_explained_feature in range(num_of_features):\n",
    "                feature_set = []\n",
    "                for idx, row in highest_contributing_features.iterrows():\n",
    "                    if idx[0] == idx_explained_feature:\n",
    "                        feature_set.append((idx[1], row[0]))\n",
    "                explained_feature_index = top_error_df.index[idx_explained_feature]\n",
    "                feature_set.insert(0, (train_data.columns[explained_feature_index], -1))\n",
    "\n",
    "                all_feature_sets_explanation[record_idx].append(feature_set)\n",
    "\n",
    "            final_feature_set = []\n",
    "            final_feature_items = []\n",
    "            for item in sum(all_feature_sets_explanation[record_idx], []):\n",
    "                if item[0] not in final_feature_set:\n",
    "                    final_feature_set.append(item[0])\n",
    "                    final_feature_items.append(item)\n",
    "\n",
    "            if return_shap_values:\n",
    "                all_feature_sets_explanation[record_idx] = final_feature_items\n",
    "            else:\n",
    "                all_feature_sets_explanation[record_idx] = final_feature_set\n",
    "\n",
    "        return all_feature_sets_explanation"
   ]
  },
  {
   "cell_type": "code",
   "execution_count": 15,
   "id": "cc786c16",
   "metadata": {},
   "outputs": [],
   "source": [
    "import pandas as pd\n",
    "from sklearn.preprocessing import MinMaxScaler"
   ]
  },
  {
   "cell_type": "code",
   "execution_count": 16,
   "id": "d198c5f2",
   "metadata": {},
   "outputs": [],
   "source": [
    "# Read the benign dataset from the specified CSV file\n",
    "benign = pd.read_csv(r\"C:/Users\\sampa\\Desktop\\dataset\\REGULAR.csv\")\n",
    "# Read the attack dataset from the specified CSV file\n",
    "Attack = pd.read_csv(r\"C:/Users\\sampa\\Desktop\\dataset\\IOT\\Hulk-Evasive.csv\")\n",
    "\n",
    "\n",
    "# selected columns (Add more columns)\n",
    "# cols is the column list for benign dataset\n",
    "cols = ['Flow Packets/s', 'Fwd PSH Flags', 'Fwd Packets/s', 'Bwd Packets/s','FIN Flag Count', 'PSH Flag Count', 'Fwd Bytes/Bulk Avg',\n",
    "       'Fwd Packet/Bulk Avg', 'Fwd Bulk Rate Avg', 'Fwd Act Data Pkts','Fwd Packet Length Max', 'Fwd Packet Length Mean',\n",
    "       'Fwd Packet Length Std', 'Bwd Packet Length Max','Bwd Packet Length Mean', 'Bwd Packet Length Std', 'Packet Length Max',\n",
    "       'Packet Length Mean', 'Packet Length Std', 'Packet Length Variance','RST Flag Count', 'Average Packet Size', 'Fwd Segment Size Avg',\n",
    "       'Bwd Segment Size Avg', 'Subflow Fwd Bytes', 'Subflow Bwd Bytes']\n",
    "\n",
    "# catt_cols is the column list for attack dataset (including Label column)\n",
    "att_cols = ['Flow Packets/s', 'Fwd PSH Flags', 'Fwd Packets/s', 'Bwd Packets/s','FIN Flag Count', 'PSH Flag Count', 'Fwd Bytes/Bulk Avg',\n",
    "       'Fwd Packet/Bulk Avg', 'Fwd Bulk Rate Avg', 'Fwd Act Data Pkts','Fwd Packet Length Max', 'Fwd Packet Length Mean',\n",
    "       'Fwd Packet Length Std', 'Bwd Packet Length Max','Bwd Packet Length Mean', 'Bwd Packet Length Std', 'Packet Length Max',\n",
    "       'Packet Length Mean', 'Packet Length Std', 'Packet Length Variance','RST Flag Count', 'Average Packet Size', 'Fwd Segment Size Avg',\n",
    "       'Bwd Segment Size Avg', 'Subflow Fwd Bytes', 'Subflow Bwd Bytes','Label']\n",
    "\n",
    "#%%\n",
    "# filter columns\n",
    "benign = benign[cols]\n",
    "# remove inf values\n",
    "benign = benign.replace([np.inf], np.nan)\n",
    "benign.dropna(inplace=True)\n",
    "\n",
    "# filter columns\n",
    "Attack = Attack[att_cols]\n",
    "# remove inf values\n",
    "Attack = Attack.replace([np.inf], np.nan)\n",
    "Attack.dropna(inplace=True)\n",
    "\n",
    "#%%\n",
    "# data normalization (this will convert all columns to 0-1 range)\n",
    "scaler = MinMaxScaler()\n",
    "fit_scaling = scaler.fit(benign)\n",
    "fit_apply = fit_scaling.transform(benign)  # fit the scaler for benign dataset\n",
    "benign_norm = pd.DataFrame(fit_apply, columns=benign.columns, index=benign.index)\n",
    "\n",
    "Attack_label = Attack[['Label']]\n",
    "Attack_X = Attack.drop('Label', axis=1)\n",
    "fit_apply = fit_scaling.transform(Attack_X)  # apply normalization to attack dataset\n",
    "attack_norm = pd.DataFrame(fit_apply, columns=Attack_X.columns, index=Attack_X.index)\n",
    "\n",
    "\n",
    "\n",
    "# data preparation for autoencoder model\n",
    "X_train = benign_norm   # convert pandas dataframe into a array\n",
    "X_test = attack_norm\n"
   ]
  },
  {
   "cell_type": "code",
   "execution_count": 4,
   "id": "0b72324f",
   "metadata": {},
   "outputs": [
    {
     "data": {
      "text/html": [
       "<div>\n",
       "<style scoped>\n",
       "    .dataframe tbody tr th:only-of-type {\n",
       "        vertical-align: middle;\n",
       "    }\n",
       "\n",
       "    .dataframe tbody tr th {\n",
       "        vertical-align: top;\n",
       "    }\n",
       "\n",
       "    .dataframe thead th {\n",
       "        text-align: right;\n",
       "    }\n",
       "</style>\n",
       "<table border=\"1\" class=\"dataframe\">\n",
       "  <thead>\n",
       "    <tr style=\"text-align: right;\">\n",
       "      <th></th>\n",
       "      <th>Flow Packets/s</th>\n",
       "      <th>Fwd PSH Flags</th>\n",
       "      <th>Fwd Packets/s</th>\n",
       "      <th>Bwd Packets/s</th>\n",
       "      <th>FIN Flag Count</th>\n",
       "      <th>PSH Flag Count</th>\n",
       "      <th>Fwd Bytes/Bulk Avg</th>\n",
       "      <th>Fwd Packet/Bulk Avg</th>\n",
       "      <th>Fwd Bulk Rate Avg</th>\n",
       "      <th>Fwd Act Data Pkts</th>\n",
       "      <th>...</th>\n",
       "      <th>Packet Length Max</th>\n",
       "      <th>Packet Length Mean</th>\n",
       "      <th>Packet Length Std</th>\n",
       "      <th>Packet Length Variance</th>\n",
       "      <th>RST Flag Count</th>\n",
       "      <th>Average Packet Size</th>\n",
       "      <th>Fwd Segment Size Avg</th>\n",
       "      <th>Bwd Segment Size Avg</th>\n",
       "      <th>Subflow Fwd Bytes</th>\n",
       "      <th>Subflow Bwd Bytes</th>\n",
       "    </tr>\n",
       "  </thead>\n",
       "  <tbody>\n",
       "    <tr>\n",
       "      <th>0</th>\n",
       "      <td>0.000340</td>\n",
       "      <td>0.000000</td>\n",
       "      <td>0.000681</td>\n",
       "      <td>0.00000</td>\n",
       "      <td>0.0</td>\n",
       "      <td>0.000000</td>\n",
       "      <td>0.000000</td>\n",
       "      <td>0.000000</td>\n",
       "      <td>0.000000</td>\n",
       "      <td>0.000000</td>\n",
       "      <td>...</td>\n",
       "      <td>0.000000</td>\n",
       "      <td>0.000000</td>\n",
       "      <td>0.000000</td>\n",
       "      <td>0.000000</td>\n",
       "      <td>0.0</td>\n",
       "      <td>0.000000</td>\n",
       "      <td>0.000000</td>\n",
       "      <td>0.000000</td>\n",
       "      <td>0.000000</td>\n",
       "      <td>0.000000</td>\n",
       "    </tr>\n",
       "    <tr>\n",
       "      <th>1</th>\n",
       "      <td>0.000082</td>\n",
       "      <td>0.000000</td>\n",
       "      <td>0.000164</td>\n",
       "      <td>0.00000</td>\n",
       "      <td>0.0</td>\n",
       "      <td>0.000000</td>\n",
       "      <td>0.018674</td>\n",
       "      <td>0.027211</td>\n",
       "      <td>0.004687</td>\n",
       "      <td>0.215947</td>\n",
       "      <td>...</td>\n",
       "      <td>0.041436</td>\n",
       "      <td>0.125636</td>\n",
       "      <td>0.000000</td>\n",
       "      <td>0.000000</td>\n",
       "      <td>0.0</td>\n",
       "      <td>0.125636</td>\n",
       "      <td>0.457317</td>\n",
       "      <td>0.000000</td>\n",
       "      <td>0.457317</td>\n",
       "      <td>0.000000</td>\n",
       "    </tr>\n",
       "    <tr>\n",
       "      <th>2</th>\n",
       "      <td>0.000015</td>\n",
       "      <td>0.000000</td>\n",
       "      <td>0.000030</td>\n",
       "      <td>0.00000</td>\n",
       "      <td>0.0</td>\n",
       "      <td>0.000000</td>\n",
       "      <td>0.000000</td>\n",
       "      <td>0.000000</td>\n",
       "      <td>0.000000</td>\n",
       "      <td>0.000000</td>\n",
       "      <td>...</td>\n",
       "      <td>0.000000</td>\n",
       "      <td>0.000000</td>\n",
       "      <td>0.000000</td>\n",
       "      <td>0.000000</td>\n",
       "      <td>0.0</td>\n",
       "      <td>0.000000</td>\n",
       "      <td>0.000000</td>\n",
       "      <td>0.000000</td>\n",
       "      <td>0.000000</td>\n",
       "      <td>0.000000</td>\n",
       "    </tr>\n",
       "    <tr>\n",
       "      <th>3</th>\n",
       "      <td>0.000879</td>\n",
       "      <td>0.128205</td>\n",
       "      <td>0.001147</td>\n",
       "      <td>0.00059</td>\n",
       "      <td>0.0</td>\n",
       "      <td>0.042272</td>\n",
       "      <td>0.000000</td>\n",
       "      <td>0.000000</td>\n",
       "      <td>0.000000</td>\n",
       "      <td>0.046512</td>\n",
       "      <td>...</td>\n",
       "      <td>0.019890</td>\n",
       "      <td>0.018598</td>\n",
       "      <td>0.010679</td>\n",
       "      <td>0.000114</td>\n",
       "      <td>0.0</td>\n",
       "      <td>0.018598</td>\n",
       "      <td>0.045732</td>\n",
       "      <td>0.012796</td>\n",
       "      <td>0.028963</td>\n",
       "      <td>0.010059</td>\n",
       "    </tr>\n",
       "    <tr>\n",
       "      <th>4</th>\n",
       "      <td>0.000319</td>\n",
       "      <td>0.923077</td>\n",
       "      <td>0.000316</td>\n",
       "      <td>0.00031</td>\n",
       "      <td>0.0</td>\n",
       "      <td>0.145310</td>\n",
       "      <td>0.000000</td>\n",
       "      <td>0.000000</td>\n",
       "      <td>0.000000</td>\n",
       "      <td>0.355482</td>\n",
       "      <td>...</td>\n",
       "      <td>0.019890</td>\n",
       "      <td>0.013767</td>\n",
       "      <td>0.010207</td>\n",
       "      <td>0.000104</td>\n",
       "      <td>0.0</td>\n",
       "      <td>0.013767</td>\n",
       "      <td>0.098448</td>\n",
       "      <td>0.000208</td>\n",
       "      <td>0.048780</td>\n",
       "      <td>0.000000</td>\n",
       "    </tr>\n",
       "  </tbody>\n",
       "</table>\n",
       "<p>5 rows × 26 columns</p>\n",
       "</div>"
      ],
      "text/plain": [
       "   Flow Packets/s  Fwd PSH Flags  Fwd Packets/s  Bwd Packets/s  \\\n",
       "0        0.000340       0.000000       0.000681        0.00000   \n",
       "1        0.000082       0.000000       0.000164        0.00000   \n",
       "2        0.000015       0.000000       0.000030        0.00000   \n",
       "3        0.000879       0.128205       0.001147        0.00059   \n",
       "4        0.000319       0.923077       0.000316        0.00031   \n",
       "\n",
       "   FIN Flag Count  PSH Flag Count  Fwd Bytes/Bulk Avg  Fwd Packet/Bulk Avg  \\\n",
       "0             0.0        0.000000            0.000000             0.000000   \n",
       "1             0.0        0.000000            0.018674             0.027211   \n",
       "2             0.0        0.000000            0.000000             0.000000   \n",
       "3             0.0        0.042272            0.000000             0.000000   \n",
       "4             0.0        0.145310            0.000000             0.000000   \n",
       "\n",
       "   Fwd Bulk Rate Avg  Fwd Act Data Pkts  ...  Packet Length Max  \\\n",
       "0           0.000000           0.000000  ...           0.000000   \n",
       "1           0.004687           0.215947  ...           0.041436   \n",
       "2           0.000000           0.000000  ...           0.000000   \n",
       "3           0.000000           0.046512  ...           0.019890   \n",
       "4           0.000000           0.355482  ...           0.019890   \n",
       "\n",
       "   Packet Length Mean  Packet Length Std  Packet Length Variance  \\\n",
       "0            0.000000           0.000000                0.000000   \n",
       "1            0.125636           0.000000                0.000000   \n",
       "2            0.000000           0.000000                0.000000   \n",
       "3            0.018598           0.010679                0.000114   \n",
       "4            0.013767           0.010207                0.000104   \n",
       "\n",
       "   RST Flag Count  Average Packet Size  Fwd Segment Size Avg  \\\n",
       "0             0.0             0.000000              0.000000   \n",
       "1             0.0             0.125636              0.457317   \n",
       "2             0.0             0.000000              0.000000   \n",
       "3             0.0             0.018598              0.045732   \n",
       "4             0.0             0.013767              0.098448   \n",
       "\n",
       "   Bwd Segment Size Avg  Subflow Fwd Bytes  Subflow Bwd Bytes  \n",
       "0              0.000000           0.000000           0.000000  \n",
       "1              0.000000           0.457317           0.000000  \n",
       "2              0.000000           0.000000           0.000000  \n",
       "3              0.012796           0.028963           0.010059  \n",
       "4              0.000208           0.048780           0.000000  \n",
       "\n",
       "[5 rows x 26 columns]"
      ]
     },
     "execution_count": 4,
     "metadata": {},
     "output_type": "execute_result"
    }
   ],
   "source": [
    "X_train.head()"
   ]
  },
  {
   "cell_type": "code",
   "execution_count": 6,
   "id": "0e9e7aba",
   "metadata": {},
   "outputs": [
    {
     "data": {
      "text/plain": [
       "Index(['Flow Packets/s', 'Fwd PSH Flags', 'Fwd Packets/s', 'Bwd Packets/s',\n",
       "       'FIN Flag Count', 'PSH Flag Count', 'Fwd Bytes/Bulk Avg',\n",
       "       'Fwd Packet/Bulk Avg', 'Fwd Bulk Rate Avg', 'Fwd Act Data Pkts',\n",
       "       'Fwd Packet Length Max', 'Fwd Packet Length Mean',\n",
       "       'Fwd Packet Length Std', 'Bwd Packet Length Max',\n",
       "       'Bwd Packet Length Mean', 'Bwd Packet Length Std', 'Packet Length Max',\n",
       "       'Packet Length Mean', 'Packet Length Std', 'Packet Length Variance',\n",
       "       'RST Flag Count', 'Average Packet Size', 'Fwd Segment Size Avg',\n",
       "       'Bwd Segment Size Avg', 'Subflow Fwd Bytes', 'Subflow Bwd Bytes'],\n",
       "      dtype='object')"
      ]
     },
     "execution_count": 6,
     "metadata": {},
     "output_type": "execute_result"
    }
   ],
   "source": [
    "X_test.columns"
   ]
  },
  {
   "cell_type": "code",
   "execution_count": 7,
   "id": "369846bd",
   "metadata": {},
   "outputs": [
    {
     "data": {
      "text/plain": [
       "Index(['Flow Packets/s', 'Fwd PSH Flags', 'Fwd Packets/s', 'Bwd Packets/s',\n",
       "       'FIN Flag Count', 'PSH Flag Count', 'Fwd Bytes/Bulk Avg',\n",
       "       'Fwd Packet/Bulk Avg', 'Fwd Bulk Rate Avg', 'Fwd Act Data Pkts',\n",
       "       'Fwd Packet Length Max', 'Fwd Packet Length Mean',\n",
       "       'Fwd Packet Length Std', 'Bwd Packet Length Max',\n",
       "       'Bwd Packet Length Mean', 'Bwd Packet Length Std', 'Packet Length Max',\n",
       "       'Packet Length Mean', 'Packet Length Std', 'Packet Length Variance',\n",
       "       'RST Flag Count', 'Average Packet Size', 'Fwd Segment Size Avg',\n",
       "       'Bwd Segment Size Avg', 'Subflow Fwd Bytes', 'Subflow Bwd Bytes'],\n",
       "      dtype='object')"
      ]
     },
     "execution_count": 7,
     "metadata": {},
     "output_type": "execute_result"
    }
   ],
   "source": [
    "X_train.columns"
   ]
  },
  {
   "cell_type": "code",
   "execution_count": 8,
   "id": "a021efe0",
   "metadata": {},
   "outputs": [
    {
     "data": {
      "text/plain": [
       "(757027, 26)"
      ]
     },
     "execution_count": 8,
     "metadata": {},
     "output_type": "execute_result"
    }
   ],
   "source": [
    "X_test.shape"
   ]
  },
  {
   "cell_type": "code",
   "execution_count": 9,
   "id": "cfaf210d",
   "metadata": {},
   "outputs": [
    {
     "data": {
      "text/plain": [
       "Hulk-Evasive    756987\n",
       "BENIGN              40\n",
       "Name: Label, dtype: int64"
      ]
     },
     "execution_count": 9,
     "metadata": {},
     "output_type": "execute_result"
    }
   ],
   "source": [
    "Attack.Label.value_counts()"
   ]
  },
  {
   "cell_type": "code",
   "execution_count": 10,
   "id": "13984993",
   "metadata": {},
   "outputs": [],
   "source": [
    "# Create an instance of the AnomalyExplanationUsingSHAP class with the specified number of anomalies\n",
    "exp_model = AnomalyExplanationUsingSHAP(num_anomalies=2)\n"
   ]
  },
  {
   "cell_type": "code",
   "execution_count": 11,
   "id": "408a4bbf",
   "metadata": {},
   "outputs": [
    {
     "name": "stdout",
     "output_type": "stream",
     "text": [
      "Training data features: 26\n",
      "Model: \"model\"\n",
      "_________________________________________________________________\n",
      " Layer (type)                Output Shape              Param #   \n",
      "=================================================================\n",
      " input_1 (InputLayer)        [(None, 26)]              0         \n",
      "                                                                 \n",
      " dense (Dense)               (None, 10)                270       \n",
      "                                                                 \n",
      " dense_1 (Dense)             (None, 32)                352       \n",
      "                                                                 \n",
      " dense_2 (Dense)             (None, 10)                330       \n",
      "                                                                 \n",
      " dense_3 (Dense)             (None, 32)                352       \n",
      "                                                                 \n",
      " dense_4 (Dense)             (None, 26)                858       \n",
      "                                                                 \n",
      "=================================================================\n",
      "Total params: 2,162\n",
      "Trainable params: 2,162\n",
      "Non-trainable params: 0\n",
      "_________________________________________________________________\n",
      "Epoch 1/5\n",
      "4278/4278 - 6s - loss: 0.0028 - mse: 0.0027 - val_loss: 1.9803e-04 - val_mse: 1.3757e-04 - 6s/epoch - 1ms/step\n",
      "Epoch 2/5\n",
      "4278/4278 - 5s - loss: 1.7106e-04 - mse: 1.1474e-04 - val_loss: 1.4163e-04 - val_mse: 8.9240e-05 - 5s/epoch - 1ms/step\n",
      "Epoch 3/5\n",
      "4278/4278 - 5s - loss: 1.3467e-04 - mse: 8.4967e-05 - val_loss: 1.0404e-04 - val_mse: 5.5764e-05 - 5s/epoch - 1ms/step\n",
      "Epoch 4/5\n",
      "4278/4278 - 5s - loss: 9.5378e-05 - mse: 4.8852e-05 - val_loss: 8.0014e-05 - val_mse: 3.5788e-05 - 5s/epoch - 1ms/step\n",
      "Epoch 5/5\n",
      "4278/4278 - 5s - loss: 8.2983e-05 - mse: 4.0558e-05 - val_loss: 6.9714e-05 - val_mse: 2.8890e-05 - 5s/epoch - 1ms/step\n",
      "23658/23658 [==============================] - 23s 954us/step\n",
      "1/1 [==============================] - 0s 59ms/step\n",
      "7/7 [==============================] - 0s 1ms/step\n",
      "1/1 [==============================] - 0s 15ms/step\n",
      "13125/13125 [==============================] - 13s 1ms/step\n",
      "7/7 [==============================] - 0s 1ms/step\n",
      "1/1 [==============================] - 0s 17ms/step\n",
      "13125/13125 [==============================] - 13s 1ms/step\n",
      "1/1 [==============================] - 0s 20ms/step\n",
      "7/7 [==============================] - 0s 1ms/step\n",
      "1/1 [==============================] - 0s 16ms/step\n",
      "13125/13125 [==============================] - 13s 1ms/step\n",
      "7/7 [==============================] - 0s 1ms/step\n",
      "1/1 [==============================] - 0s 15ms/step\n",
      "13125/13125 [==============================] - 14s 1ms/step\n"
     ]
    }
   ],
   "source": [
    "# Obtain explanations for anomaly detection using the instance of exp_model.\n",
    "# The explanations are generated for the given training data (X_train) and\n",
    "# the data to be explained (X_test). SHAP values will be returned for each explanation.\n",
    "all_feature_sets_explanation = exp_model.explain_unsupervised_data(train_data=X_train, \n",
    "                                                                   explain_data=X_test,\n",
    "                                                                   return_shap_values=True)\n"
   ]
  },
  {
   "cell_type": "code",
   "execution_count": 12,
   "id": "ea1187c1",
   "metadata": {},
   "outputs": [
    {
     "data": {
      "text/plain": [
       "{573735: [('Bwd Packet Length Std', -1),\n",
       "  ('Flow Packets/s', 0.46903039468179697),\n",
       "  ('Bwd Packets/s', 0.23831491110150982),\n",
       "  ('Fwd Packets/s', 0.10790319080536703),\n",
       "  ('RST Flag Count', 0.05254859136531481)],\n",
       " 4: [('Bwd Packet Length Std', -1),\n",
       "  ('Flow Packets/s', 0.45697032964607),\n",
       "  ('Bwd Packets/s', 0.22505317459077911),\n",
       "  ('Fwd Packets/s', 0.09795374685566322),\n",
       "  ('RST Flag Count', 0.05780982698058157)]}"
      ]
     },
     "execution_count": 12,
     "metadata": {},
     "output_type": "execute_result"
    }
   ],
   "source": [
    "# A dictionary containing explanations for each record in the dataset.(For training data)\n",
    "# The keys represent record indexes, and the values are lists of explanation feature sets.\n",
    "all_feature_sets_explanation"
   ]
  },
  {
   "cell_type": "code",
   "execution_count": 13,
   "id": "6621faff",
   "metadata": {},
   "outputs": [],
   "source": [
    " # define X_train\n",
    "X_train = benign_norm.to_numpy() "
   ]
  },
  {
   "cell_type": "code",
   "execution_count": 17,
   "id": "5d433068",
   "metadata": {},
   "outputs": [
    {
     "data": {
      "text/plain": [
       "Index(['Flow Packets/s', 'Fwd PSH Flags', 'Fwd Packets/s', 'Bwd Packets/s',\n",
       "       'FIN Flag Count', 'PSH Flag Count', 'Fwd Bytes/Bulk Avg',\n",
       "       'Fwd Packet/Bulk Avg', 'Fwd Bulk Rate Avg', 'Fwd Act Data Pkts',\n",
       "       'Fwd Packet Length Max', 'Fwd Packet Length Mean',\n",
       "       'Fwd Packet Length Std', 'Bwd Packet Length Max',\n",
       "       'Bwd Packet Length Mean', 'Bwd Packet Length Std', 'Packet Length Max',\n",
       "       'Packet Length Mean', 'Packet Length Std', 'Packet Length Variance',\n",
       "       'RST Flag Count', 'Average Packet Size', 'Fwd Segment Size Avg',\n",
       "       'Bwd Segment Size Avg', 'Subflow Fwd Bytes', 'Subflow Bwd Bytes'],\n",
       "      dtype='object')"
      ]
     },
     "execution_count": 17,
     "metadata": {},
     "output_type": "execute_result"
    }
   ],
   "source": [
    "X_train.columns"
   ]
  },
  {
   "cell_type": "code",
   "execution_count": 18,
   "id": "0e9a629c",
   "metadata": {},
   "outputs": [
    {
     "name": "stdout",
     "output_type": "stream",
     "text": [
      "26\n",
      "26\n"
     ]
    }
   ],
   "source": [
    "print(len(X_train.columns))\n",
    "print(len(X_test.columns))"
   ]
  },
  {
   "cell_type": "code",
   "execution_count": 19,
   "id": "21db8702",
   "metadata": {},
   "outputs": [
    {
     "data": {
      "text/plain": [
       "Index(['Flow Packets/s', 'Fwd PSH Flags', 'Fwd Packets/s', 'Bwd Packets/s',\n",
       "       'FIN Flag Count', 'PSH Flag Count', 'Fwd Bytes/Bulk Avg',\n",
       "       'Fwd Packet/Bulk Avg', 'Fwd Bulk Rate Avg', 'Fwd Act Data Pkts',\n",
       "       'Fwd Packet Length Max', 'Fwd Packet Length Mean',\n",
       "       'Fwd Packet Length Std', 'Bwd Packet Length Max',\n",
       "       'Bwd Packet Length Mean', 'Bwd Packet Length Std', 'Packet Length Max',\n",
       "       'Packet Length Mean', 'Packet Length Std', 'Packet Length Variance',\n",
       "       'RST Flag Count', 'Average Packet Size', 'Fwd Segment Size Avg',\n",
       "       'Bwd Segment Size Avg', 'Subflow Fwd Bytes', 'Subflow Bwd Bytes'],\n",
       "      dtype='object')"
      ]
     },
     "execution_count": 19,
     "metadata": {},
     "output_type": "execute_result"
    }
   ],
   "source": [
    "X_test.columns"
   ]
  },
  {
   "cell_type": "code",
   "execution_count": 20,
   "id": "144acbdc",
   "metadata": {},
   "outputs": [
    {
     "name": "stdout",
     "output_type": "stream",
     "text": [
      "9506/9506 [==============================] - 8s 867us/step\n"
     ]
    }
   ],
   "source": [
    "# threshold estimation using benign dataset\n",
    "# predictions for benign dataset\n",
    "import tensorflow\n",
    "autoencoder = tensorflow.keras.models.load_model(\"autoencoder.h5\")\n",
    "x_pred_benign = autoencoder.predict(X_train)\n",
    "benignMAE = np.mean(np.abs(X_train - x_pred_benign), axis=1)  # raw wise MAE calculation\n",
    "benign_norm['MAE'] = benignMAE  # add MAE as a column to benignMAE dataframe\n",
    "threshold = benign_norm['MAE'].quantile(0.99)  # 0.99 quantile threshold\n",
    "threshold_max = benign_norm['MAE'].max()  # maximum threshold"
   ]
  },
  {
   "cell_type": "code",
   "execution_count": 21,
   "id": "8777364b",
   "metadata": {},
   "outputs": [
    {
     "name": "stdout",
     "output_type": "stream",
     "text": [
      "23658/23658 [==============================] - 21s 880us/step\n"
     ]
    }
   ],
   "source": [
    "#%%\n",
    "# autoencoder prediction results for attack dataset\n",
    "x_pred_attack = autoencoder.predict(X_test)\n",
    "attackMAE = np.mean(np.abs(X_test - x_pred_attack), axis=1)  # raw wise MAE calculation\n",
    "Attack['MAE'] = attackMAE\n",
    "Attack['pred_label'] = np.where(Attack['MAE']>threshold,1,0)\n"
   ]
  },
  {
   "cell_type": "code",
   "execution_count": 22,
   "id": "23379c34",
   "metadata": {},
   "outputs": [
    {
     "name": "stdout",
     "output_type": "stream",
     "text": [
      "27\n",
      "26\n",
      "26\n"
     ]
    }
   ],
   "source": [
    "print(len(X_train.columns))\n",
    "print(len(X_test.columns))\n",
    "X_train = X_train.drop('MAE',1)\n",
    "print(len(X_train.columns))"
   ]
  },
  {
   "cell_type": "code",
   "execution_count": 23,
   "id": "e28c8399",
   "metadata": {},
   "outputs": [
    {
     "name": "stdout",
     "output_type": "stream",
     "text": [
      "(757000, 27)\n"
     ]
    }
   ],
   "source": [
    "# x test with predicted labels\n",
    "X_test['pred_label'] = Attack['pred_label']\n",
    "\n",
    "# select only attack data \n",
    "X_test_attack = X_test[X_test['pred_label']==1]\n",
    "print(X_test_attack.shape)\n",
    "# drop pred_lable column \n",
    "X_test_attack_new = X_test_attack.drop(['pred_label'], axis=1, inplace=True)\n",
    "# print(X_test_attack_new.shape)"
   ]
  },
  {
   "cell_type": "code",
   "execution_count": 24,
   "id": "2ba70878",
   "metadata": {},
   "outputs": [
    {
     "data": {
      "text/plain": [
       "Index(['Flow Packets/s', 'Fwd PSH Flags', 'Fwd Packets/s', 'Bwd Packets/s',\n",
       "       'FIN Flag Count', 'PSH Flag Count', 'Fwd Bytes/Bulk Avg',\n",
       "       'Fwd Packet/Bulk Avg', 'Fwd Bulk Rate Avg', 'Fwd Act Data Pkts',\n",
       "       'Fwd Packet Length Max', 'Fwd Packet Length Mean',\n",
       "       'Fwd Packet Length Std', 'Bwd Packet Length Max',\n",
       "       'Bwd Packet Length Mean', 'Bwd Packet Length Std', 'Packet Length Max',\n",
       "       'Packet Length Mean', 'Packet Length Std', 'Packet Length Variance',\n",
       "       'RST Flag Count', 'Average Packet Size', 'Fwd Segment Size Avg',\n",
       "       'Bwd Segment Size Avg', 'Subflow Fwd Bytes', 'Subflow Bwd Bytes'],\n",
       "      dtype='object')"
      ]
     },
     "execution_count": 24,
     "metadata": {},
     "output_type": "execute_result"
    }
   ],
   "source": [
    "X_test_attack.columns"
   ]
  },
  {
   "cell_type": "code",
   "execution_count": 25,
   "id": "5893ebfc",
   "metadata": {},
   "outputs": [],
   "source": [
    "X_train=pd.DataFrame(X_train)"
   ]
  },
  {
   "cell_type": "code",
   "execution_count": 26,
   "id": "45707300",
   "metadata": {},
   "outputs": [
    {
     "data": {
      "text/plain": [
       "26"
      ]
     },
     "execution_count": 26,
     "metadata": {},
     "output_type": "execute_result"
    }
   ],
   "source": [
    "len(X_train.columns)"
   ]
  },
  {
   "cell_type": "code",
   "execution_count": 27,
   "id": "03709b79",
   "metadata": {},
   "outputs": [
    {
     "data": {
      "text/plain": [
       "26"
      ]
     },
     "execution_count": 27,
     "metadata": {},
     "output_type": "execute_result"
    }
   ],
   "source": [
    "len(X_test_attack.columns)"
   ]
  },
  {
   "cell_type": "code",
   "execution_count": 28,
   "id": "3518271b",
   "metadata": {},
   "outputs": [],
   "source": [
    "exp_model = AnomalyExplanationUsingSHAP(num_anomalies=5)\n"
   ]
  },
  {
   "cell_type": "code",
   "execution_count": 29,
   "id": "dbfa9c1d",
   "metadata": {},
   "outputs": [
    {
     "name": "stdout",
     "output_type": "stream",
     "text": [
      "Training data features: 26\n",
      "Model: \"model_1\"\n",
      "_________________________________________________________________\n",
      " Layer (type)                Output Shape              Param #   \n",
      "=================================================================\n",
      " input_2 (InputLayer)        [(None, 26)]              0         \n",
      "                                                                 \n",
      " dense_5 (Dense)             (None, 10)                270       \n",
      "                                                                 \n",
      " dense_6 (Dense)             (None, 32)                352       \n",
      "                                                                 \n",
      " dense_7 (Dense)             (None, 10)                330       \n",
      "                                                                 \n",
      " dense_8 (Dense)             (None, 32)                352       \n",
      "                                                                 \n",
      " dense_9 (Dense)             (None, 26)                858       \n",
      "                                                                 \n",
      "=================================================================\n",
      "Total params: 2,162\n",
      "Trainable params: 2,162\n",
      "Non-trainable params: 0\n",
      "_________________________________________________________________\n",
      "Epoch 1/5\n",
      "4278/4278 - 6s - loss: 0.0030 - mse: 0.0030 - val_loss: 1.6666e-04 - val_mse: 1.0979e-04 - 6s/epoch - 1ms/step\n",
      "Epoch 2/5\n",
      "4278/4278 - 5s - loss: 1.1130e-04 - mse: 5.5648e-05 - val_loss: 8.0316e-05 - val_mse: 2.7407e-05 - 5s/epoch - 1ms/step\n",
      "Epoch 3/5\n",
      "4278/4278 - 5s - loss: 7.6404e-05 - mse: 2.6926e-05 - val_loss: 6.3470e-05 - val_mse: 1.6447e-05 - 5s/epoch - 1ms/step\n",
      "Epoch 4/5\n",
      "4278/4278 - 5s - loss: 6.7469e-05 - mse: 2.2877e-05 - val_loss: 5.5463e-05 - val_mse: 1.2719e-05 - 5s/epoch - 1ms/step\n",
      "Epoch 5/5\n",
      "4278/4278 - 5s - loss: 6.2291e-05 - mse: 2.1098e-05 - val_loss: 5.2878e-05 - val_mse: 1.3000e-05 - 5s/epoch - 1ms/step\n",
      "23657/23657 [==============================] - 22s 929us/step\n",
      "1/1 [==============================] - 0s 64ms/step\n",
      "7/7 [==============================] - 0s 1ms/step\n",
      "1/1 [==============================] - 0s 16ms/step\n",
      "13125/13125 [==============================] - 14s 1ms/step\n",
      "1/1 [==============================] - 0s 18ms/step\n",
      "7/7 [==============================] - 0s 1ms/step\n",
      "1/1 [==============================] - 0s 16ms/step\n",
      "13125/13125 [==============================] - 13s 1ms/step\n",
      "1/1 [==============================] - 0s 18ms/step\n",
      "7/7 [==============================] - 0s 1ms/step\n",
      "1/1 [==============================] - 0s 17ms/step\n",
      "13125/13125 [==============================] - 13s 1ms/step\n",
      "1/1 [==============================] - 0s 17ms/step\n",
      "7/7 [==============================] - 0s 1ms/step\n",
      "1/1 [==============================] - 0s 17ms/step\n",
      "13125/13125 [==============================] - 13s 964us/step\n",
      "1/1 [==============================] - 0s 16ms/step\n",
      "7/7 [==============================] - 0s 1ms/step\n",
      "1/1 [==============================] - 0s 17ms/step\n",
      "13125/13125 [==============================] - 13s 966us/step\n"
     ]
    }
   ],
   "source": [
    "# model only for attack data 'X_test_attack'\n",
    "\n",
    "all_sets_explaining_features = exp_model.explain_unsupervised_data(train_data=X_train, \n",
    "                                                                   explain_data=X_test_attack,\n",
    "                                                                   return_shap_values=True)\n"
   ]
  },
  {
   "cell_type": "code",
   "execution_count": 46,
   "id": "d08242ce",
   "metadata": {},
   "outputs": [
    {
     "data": {
      "text/plain": [
       "{602902: [('Fwd Packets/s', -1),\n",
       "  ('Bwd Packets/s', 0.22236648530019965),\n",
       "  ('Flow Packets/s', 0.20173666879070629)],\n",
       " 718029: [('Fwd Packets/s', -1),\n",
       "  ('Bwd Packets/s', 0.22101828334499202),\n",
       "  ('Flow Packets/s', 0.19778217858526576)],\n",
       " 384574: [('Fwd Packets/s', -1),\n",
       "  ('Bwd Packets/s', 0.22109119616268658),\n",
       "  ('Flow Packets/s', 0.20720393419003674)],\n",
       " 686625: [('Fwd Packets/s', -1),\n",
       "  ('Bwd Packets/s', 0.22355549765055377),\n",
       "  ('Flow Packets/s', 0.19770059419310443)],\n",
       " 573735: [('Fwd Packets/s', -1),\n",
       "  ('Bwd Packets/s', 0.1995736442579592),\n",
       "  ('Flow Packets/s', 0.17054043903637822)]}"
      ]
     },
     "execution_count": 46,
     "metadata": {},
     "output_type": "execute_result"
    }
   ],
   "source": [
    "# A dictionary containing explanations for each record in the dataset.(For Attack data)\n",
    "all_sets_explaining_features"
   ]
  },
  {
   "cell_type": "code",
   "execution_count": 54,
   "id": "a308760d",
   "metadata": {},
   "outputs": [],
   "source": [
    "op = dict(all_sets_explaining_features[573735])"
   ]
  },
  {
   "cell_type": "code",
   "execution_count": 55,
   "id": "7169c502",
   "metadata": {},
   "outputs": [
    {
     "data": {
      "text/plain": [
       "dict"
      ]
     },
     "execution_count": 55,
     "metadata": {},
     "output_type": "execute_result"
    }
   ],
   "source": [
    "type (op)"
   ]
  },
  {
   "cell_type": "code",
   "execution_count": 56,
   "id": "df563b82",
   "metadata": {},
   "outputs": [],
   "source": [
    "def Convert(a):\n",
    "    it = iter(a)\n",
    "    res_dct = dict(zip(it, it))\n",
    "    return res_dct"
   ]
  },
  {
   "cell_type": "code",
   "execution_count": 57,
   "id": "4bb75619",
   "metadata": {},
   "outputs": [],
   "source": [
    "D = Convert(all_sets_explaining_features[573735])"
   ]
  },
  {
   "cell_type": "code",
   "execution_count": 58,
   "id": "092f26b2",
   "metadata": {},
   "outputs": [],
   "source": [
    "D=op"
   ]
  },
  {
   "cell_type": "code",
   "execution_count": 59,
   "id": "ba5d272f",
   "metadata": {},
   "outputs": [
    {
     "data": {
      "text/plain": [
       "([<matplotlib.axis.XTick at 0x2b0ba8a5eb0>,\n",
       "  <matplotlib.axis.XTick at 0x2b0ee731880>,\n",
       "  <matplotlib.axis.XTick at 0x2b0c975ac70>],\n",
       " [Text(0, 0, 'Fwd Packets/s'),\n",
       "  Text(1, 0, 'Bwd Packets/s'),\n",
       "  Text(2, 0, 'Flow Packets/s')])"
      ]
     },
     "execution_count": 59,
     "metadata": {},
     "output_type": "execute_result"
    },
    {
     "data": {
      "image/png": "[encoded data removed]",
      "text/plain": [
       "<Figure size 720x432 with 1 Axes>"
      ]
     },
     "metadata": {
      "needs_background": "light"
     },
     "output_type": "display_data"
    }
   ],
   "source": [
    "plt.figure(figsize=(10,6))\n",
    "plt.bar(range(len(D)), list(D.values()), align='center')\n",
    "plt.xticks(rotation = 55) \n",
    "plt.xticks(range(len(D)), list(D.keys()))"
   ]
  }
 ],
 "metadata": {
  "kernelspec": {
   "display_name": "Python 3 (ipykernel)",
   "language": "python",
   "name": "python3"
  },
  "language_info": {
   "codemirror_mode": {
    "name": "ipython",
    "version": 3
   },
   "file_extension": ".py",
   "mimetype": "text/x-python",
   "name": "python",
   "nbconvert_exporter": "python",
   "pygments_lexer": "ipython3",
   "version": "3.9.7"
  }
 },
 "nbformat": 4,
 "nbformat_minor": 5
}
